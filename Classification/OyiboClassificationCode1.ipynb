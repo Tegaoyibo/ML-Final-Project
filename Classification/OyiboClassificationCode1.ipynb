{
 "cells": [
  {
   "cell_type": "code",
   "execution_count": 1,
   "id": "29f1a3d1-6522-438d-92fd-d45be94cf751",
   "metadata": {},
   "outputs": [],
   "source": [
    "import numpy as np\n",
    "import pandas as pd"
   ]
  },
  {
   "cell_type": "markdown",
   "id": "6cb68b39-1627-4017-9458-29b88b048262",
   "metadata": {},
   "source": [
    "<h1>Training Dataset 1</h1>"
   ]
  },
  {
   "cell_type": "code",
   "execution_count": 3,
   "id": "15ea6700-7ef1-4f90-a7b8-9f4145034da6",
   "metadata": {},
   "outputs": [],
   "source": [
    "#loading TrainData1.txt\n",
    "TD1 = pd.read_csv(r\"/Users/bada/Downloads/48506850Project/TrainData1.txt\", delimiter='\\t', header = None)\n",
    "TD1_features = TD1\n",
    "TD1_labels = pd.read_csv(r\"/Users/bada/Downloads/48506850Project/TrainLabel1.txt\", delimiter='\\t', header = None)"
   ]
  },
  {
   "cell_type": "code",
   "execution_count": 4,
   "id": "e341c6f9-3e5f-4a05-a301-10b6f88f1e39",
   "metadata": {},
   "outputs": [],
   "source": [
    "TD1_dataset = pd.DataFrame(TD1)\n",
    "TD1_labels = pd.DataFrame(TD1_labels)"
   ]
  },
  {
   "cell_type": "code",
   "execution_count": 5,
   "id": "4d707fa2-18ee-44cf-9310-c8edaef100a4",
   "metadata": {},
   "outputs": [
    {
     "data": {
      "text/html": [
       "<div>\n",
       "<style scoped>\n",
       "    .dataframe tbody tr th:only-of-type {\n",
       "        vertical-align: middle;\n",
       "    }\n",
       "\n",
       "    .dataframe tbody tr th {\n",
       "        vertical-align: top;\n",
       "    }\n",
       "\n",
       "    .dataframe thead th {\n",
       "        text-align: right;\n",
       "    }\n",
       "</style>\n",
       "<table border=\"1\" class=\"dataframe\">\n",
       "  <thead>\n",
       "    <tr style=\"text-align: right;\">\n",
       "      <th></th>\n",
       "      <th>0</th>\n",
       "      <th>1</th>\n",
       "      <th>2</th>\n",
       "      <th>3</th>\n",
       "      <th>4</th>\n",
       "      <th>5</th>\n",
       "      <th>6</th>\n",
       "      <th>7</th>\n",
       "      <th>8</th>\n",
       "      <th>9</th>\n",
       "      <th>...</th>\n",
       "      <th>3302</th>\n",
       "      <th>3303</th>\n",
       "      <th>3304</th>\n",
       "      <th>3305</th>\n",
       "      <th>3306</th>\n",
       "      <th>3307</th>\n",
       "      <th>3308</th>\n",
       "      <th>3309</th>\n",
       "      <th>3310</th>\n",
       "      <th>3311</th>\n",
       "    </tr>\n",
       "  </thead>\n",
       "  <tbody>\n",
       "    <tr>\n",
       "      <th>0</th>\n",
       "      <td>3.824254</td>\n",
       "      <td>1.923762</td>\n",
       "      <td>1.918450e+00</td>\n",
       "      <td>2.352067e+00</td>\n",
       "      <td>3.117298e+00</td>\n",
       "      <td>3.051735</td>\n",
       "      <td>3.307977</td>\n",
       "      <td>3.430222e+00</td>\n",
       "      <td>3.586667e+00</td>\n",
       "      <td>3.605218</td>\n",
       "      <td>...</td>\n",
       "      <td>1.836830e+00</td>\n",
       "      <td>1.855640</td>\n",
       "      <td>1.142389</td>\n",
       "      <td>2.054345</td>\n",
       "      <td>2.808224</td>\n",
       "      <td>1.782186</td>\n",
       "      <td>2.665703</td>\n",
       "      <td>2.468214</td>\n",
       "      <td>2.478581</td>\n",
       "      <td>2.308842</td>\n",
       "    </tr>\n",
       "    <tr>\n",
       "      <th>1</th>\n",
       "      <td>3.904190</td>\n",
       "      <td>2.309524</td>\n",
       "      <td>2.152930e+00</td>\n",
       "      <td>1.000000e+99</td>\n",
       "      <td>3.532368e+00</td>\n",
       "      <td>3.524866</td>\n",
       "      <td>3.677791</td>\n",
       "      <td>3.636671e+00</td>\n",
       "      <td>3.696868e+00</td>\n",
       "      <td>3.716764</td>\n",
       "      <td>...</td>\n",
       "      <td>1.951532e+00</td>\n",
       "      <td>1.442323</td>\n",
       "      <td>1.000000</td>\n",
       "      <td>2.127914</td>\n",
       "      <td>2.979658</td>\n",
       "      <td>1.961089</td>\n",
       "      <td>2.519027</td>\n",
       "      <td>2.054383</td>\n",
       "      <td>2.689903</td>\n",
       "      <td>2.090928</td>\n",
       "    </tr>\n",
       "    <tr>\n",
       "      <th>2</th>\n",
       "      <td>3.750908</td>\n",
       "      <td>1.161068</td>\n",
       "      <td>1.017033e+00</td>\n",
       "      <td>2.347993e+00</td>\n",
       "      <td>3.381889e+00</td>\n",
       "      <td>3.393096</td>\n",
       "      <td>3.509134</td>\n",
       "      <td>3.512466e+00</td>\n",
       "      <td>3.622203e+00</td>\n",
       "      <td>3.603050</td>\n",
       "      <td>...</td>\n",
       "      <td>1.000000e+00</td>\n",
       "      <td>1.584105</td>\n",
       "      <td>1.000000</td>\n",
       "      <td>1.945321</td>\n",
       "      <td>3.257004</td>\n",
       "      <td>1.965061</td>\n",
       "      <td>2.536066</td>\n",
       "      <td>1.449324</td>\n",
       "      <td>2.605230</td>\n",
       "      <td>1.368659</td>\n",
       "    </tr>\n",
       "    <tr>\n",
       "      <th>3</th>\n",
       "      <td>3.809383</td>\n",
       "      <td>1.912355</td>\n",
       "      <td>1.856940e+00</td>\n",
       "      <td>2.498944e+00</td>\n",
       "      <td>3.289406e+00</td>\n",
       "      <td>3.371232</td>\n",
       "      <td>3.541995</td>\n",
       "      <td>1.000000e+99</td>\n",
       "      <td>3.473179e+00</td>\n",
       "      <td>3.628930</td>\n",
       "      <td>...</td>\n",
       "      <td>1.869965e+00</td>\n",
       "      <td>1.481658</td>\n",
       "      <td>1.000000</td>\n",
       "      <td>2.155032</td>\n",
       "      <td>3.270371</td>\n",
       "      <td>1.928473</td>\n",
       "      <td>2.618074</td>\n",
       "      <td>2.154013</td>\n",
       "      <td>2.530046</td>\n",
       "      <td>2.185514</td>\n",
       "    </tr>\n",
       "    <tr>\n",
       "      <th>4</th>\n",
       "      <td>3.893561</td>\n",
       "      <td>2.094192</td>\n",
       "      <td>1.881271e+00</td>\n",
       "      <td>2.785707e+00</td>\n",
       "      <td>3.344339e+00</td>\n",
       "      <td>3.274417</td>\n",
       "      <td>3.485872</td>\n",
       "      <td>3.516527e+00</td>\n",
       "      <td>3.642358e+00</td>\n",
       "      <td>3.688235</td>\n",
       "      <td>...</td>\n",
       "      <td>1.480725e+00</td>\n",
       "      <td>1.510545</td>\n",
       "      <td>1.000000</td>\n",
       "      <td>2.094192</td>\n",
       "      <td>3.246666</td>\n",
       "      <td>1.824516</td>\n",
       "      <td>2.562317</td>\n",
       "      <td>1.942256</td>\n",
       "      <td>2.598517</td>\n",
       "      <td>1.764624</td>\n",
       "    </tr>\n",
       "    <tr>\n",
       "      <th>...</th>\n",
       "      <td>...</td>\n",
       "      <td>...</td>\n",
       "      <td>...</td>\n",
       "      <td>...</td>\n",
       "      <td>...</td>\n",
       "      <td>...</td>\n",
       "      <td>...</td>\n",
       "      <td>...</td>\n",
       "      <td>...</td>\n",
       "      <td>...</td>\n",
       "      <td>...</td>\n",
       "      <td>...</td>\n",
       "      <td>...</td>\n",
       "      <td>...</td>\n",
       "      <td>...</td>\n",
       "      <td>...</td>\n",
       "      <td>...</td>\n",
       "      <td>...</td>\n",
       "      <td>...</td>\n",
       "      <td>...</td>\n",
       "      <td>...</td>\n",
       "    </tr>\n",
       "    <tr>\n",
       "      <th>145</th>\n",
       "      <td>3.901178</td>\n",
       "      <td>1.672421</td>\n",
       "      <td>1.869554e+00</td>\n",
       "      <td>2.234758e+00</td>\n",
       "      <td>1.000000e+99</td>\n",
       "      <td>3.469689</td>\n",
       "      <td>3.565574</td>\n",
       "      <td>3.653364e+00</td>\n",
       "      <td>3.720899e+00</td>\n",
       "      <td>3.677092</td>\n",
       "      <td>...</td>\n",
       "      <td>2.140555e+00</td>\n",
       "      <td>1.960423</td>\n",
       "      <td>1.240300</td>\n",
       "      <td>2.149958</td>\n",
       "      <td>3.042383</td>\n",
       "      <td>1.799134</td>\n",
       "      <td>2.772116</td>\n",
       "      <td>2.460484</td>\n",
       "      <td>2.413685</td>\n",
       "      <td>2.018971</td>\n",
       "    </tr>\n",
       "    <tr>\n",
       "      <th>146</th>\n",
       "      <td>3.865257</td>\n",
       "      <td>1.796990</td>\n",
       "      <td>1.643650e+00</td>\n",
       "      <td>2.307902e+00</td>\n",
       "      <td>3.411704e+00</td>\n",
       "      <td>3.410870</td>\n",
       "      <td>3.527868</td>\n",
       "      <td>3.488609e+00</td>\n",
       "      <td>1.000000e+99</td>\n",
       "      <td>3.652136</td>\n",
       "      <td>...</td>\n",
       "      <td>2.183981e+00</td>\n",
       "      <td>2.519171</td>\n",
       "      <td>1.000000</td>\n",
       "      <td>2.174641</td>\n",
       "      <td>2.902840</td>\n",
       "      <td>1.844850</td>\n",
       "      <td>2.647755</td>\n",
       "      <td>1.000000</td>\n",
       "      <td>2.219480</td>\n",
       "      <td>1.992730</td>\n",
       "    </tr>\n",
       "    <tr>\n",
       "      <th>147</th>\n",
       "      <td>3.860198</td>\n",
       "      <td>2.097778</td>\n",
       "      <td>1.000000e+99</td>\n",
       "      <td>2.438788e+00</td>\n",
       "      <td>3.365076e+00</td>\n",
       "      <td>3.391729</td>\n",
       "      <td>3.461051</td>\n",
       "      <td>3.408433e+00</td>\n",
       "      <td>3.531799e+00</td>\n",
       "      <td>3.559242</td>\n",
       "      <td>...</td>\n",
       "      <td>1.000000e+99</td>\n",
       "      <td>2.478032</td>\n",
       "      <td>1.358316</td>\n",
       "      <td>2.125741</td>\n",
       "      <td>3.041140</td>\n",
       "      <td>1.779308</td>\n",
       "      <td>2.585771</td>\n",
       "      <td>1.000000</td>\n",
       "      <td>2.282543</td>\n",
       "      <td>2.055703</td>\n",
       "    </tr>\n",
       "    <tr>\n",
       "      <th>148</th>\n",
       "      <td>3.907102</td>\n",
       "      <td>1.000000</td>\n",
       "      <td>1.473633e+00</td>\n",
       "      <td>2.158604e+00</td>\n",
       "      <td>3.459391e+00</td>\n",
       "      <td>3.478222</td>\n",
       "      <td>3.621380</td>\n",
       "      <td>3.480155e+00</td>\n",
       "      <td>3.595473e+00</td>\n",
       "      <td>3.627081</td>\n",
       "      <td>...</td>\n",
       "      <td>2.232310e+00</td>\n",
       "      <td>1.380573</td>\n",
       "      <td>1.000000</td>\n",
       "      <td>2.105578</td>\n",
       "      <td>2.902655</td>\n",
       "      <td>2.156428</td>\n",
       "      <td>2.272538</td>\n",
       "      <td>1.000000</td>\n",
       "      <td>1.968483</td>\n",
       "      <td>2.318502</td>\n",
       "    </tr>\n",
       "    <tr>\n",
       "      <th>149</th>\n",
       "      <td>3.763867</td>\n",
       "      <td>2.281193</td>\n",
       "      <td>2.199179e+00</td>\n",
       "      <td>2.579235e+00</td>\n",
       "      <td>3.382473e+00</td>\n",
       "      <td>3.375192</td>\n",
       "      <td>3.514874</td>\n",
       "      <td>3.597044e+00</td>\n",
       "      <td>3.663170e+00</td>\n",
       "      <td>3.617475</td>\n",
       "      <td>...</td>\n",
       "      <td>2.295435e+00</td>\n",
       "      <td>1.488551</td>\n",
       "      <td>1.000000</td>\n",
       "      <td>2.021685</td>\n",
       "      <td>3.244604</td>\n",
       "      <td>2.413166</td>\n",
       "      <td>2.418467</td>\n",
       "      <td>1.473341</td>\n",
       "      <td>3.005292</td>\n",
       "      <td>2.232793</td>\n",
       "    </tr>\n",
       "  </tbody>\n",
       "</table>\n",
       "<p>150 rows × 3312 columns</p>\n",
       "</div>"
      ],
      "text/plain": [
       "         0         1             2             3             4         5     \\\n",
       "0    3.824254  1.923762  1.918450e+00  2.352067e+00  3.117298e+00  3.051735   \n",
       "1    3.904190  2.309524  2.152930e+00  1.000000e+99  3.532368e+00  3.524866   \n",
       "2    3.750908  1.161068  1.017033e+00  2.347993e+00  3.381889e+00  3.393096   \n",
       "3    3.809383  1.912355  1.856940e+00  2.498944e+00  3.289406e+00  3.371232   \n",
       "4    3.893561  2.094192  1.881271e+00  2.785707e+00  3.344339e+00  3.274417   \n",
       "..        ...       ...           ...           ...           ...       ...   \n",
       "145  3.901178  1.672421  1.869554e+00  2.234758e+00  1.000000e+99  3.469689   \n",
       "146  3.865257  1.796990  1.643650e+00  2.307902e+00  3.411704e+00  3.410870   \n",
       "147  3.860198  2.097778  1.000000e+99  2.438788e+00  3.365076e+00  3.391729   \n",
       "148  3.907102  1.000000  1.473633e+00  2.158604e+00  3.459391e+00  3.478222   \n",
       "149  3.763867  2.281193  2.199179e+00  2.579235e+00  3.382473e+00  3.375192   \n",
       "\n",
       "         6             7             8         9     ...          3302  \\\n",
       "0    3.307977  3.430222e+00  3.586667e+00  3.605218  ...  1.836830e+00   \n",
       "1    3.677791  3.636671e+00  3.696868e+00  3.716764  ...  1.951532e+00   \n",
       "2    3.509134  3.512466e+00  3.622203e+00  3.603050  ...  1.000000e+00   \n",
       "3    3.541995  1.000000e+99  3.473179e+00  3.628930  ...  1.869965e+00   \n",
       "4    3.485872  3.516527e+00  3.642358e+00  3.688235  ...  1.480725e+00   \n",
       "..        ...           ...           ...       ...  ...           ...   \n",
       "145  3.565574  3.653364e+00  3.720899e+00  3.677092  ...  2.140555e+00   \n",
       "146  3.527868  3.488609e+00  1.000000e+99  3.652136  ...  2.183981e+00   \n",
       "147  3.461051  3.408433e+00  3.531799e+00  3.559242  ...  1.000000e+99   \n",
       "148  3.621380  3.480155e+00  3.595473e+00  3.627081  ...  2.232310e+00   \n",
       "149  3.514874  3.597044e+00  3.663170e+00  3.617475  ...  2.295435e+00   \n",
       "\n",
       "         3303      3304      3305      3306      3307      3308      3309  \\\n",
       "0    1.855640  1.142389  2.054345  2.808224  1.782186  2.665703  2.468214   \n",
       "1    1.442323  1.000000  2.127914  2.979658  1.961089  2.519027  2.054383   \n",
       "2    1.584105  1.000000  1.945321  3.257004  1.965061  2.536066  1.449324   \n",
       "3    1.481658  1.000000  2.155032  3.270371  1.928473  2.618074  2.154013   \n",
       "4    1.510545  1.000000  2.094192  3.246666  1.824516  2.562317  1.942256   \n",
       "..        ...       ...       ...       ...       ...       ...       ...   \n",
       "145  1.960423  1.240300  2.149958  3.042383  1.799134  2.772116  2.460484   \n",
       "146  2.519171  1.000000  2.174641  2.902840  1.844850  2.647755  1.000000   \n",
       "147  2.478032  1.358316  2.125741  3.041140  1.779308  2.585771  1.000000   \n",
       "148  1.380573  1.000000  2.105578  2.902655  2.156428  2.272538  1.000000   \n",
       "149  1.488551  1.000000  2.021685  3.244604  2.413166  2.418467  1.473341   \n",
       "\n",
       "         3310      3311  \n",
       "0    2.478581  2.308842  \n",
       "1    2.689903  2.090928  \n",
       "2    2.605230  1.368659  \n",
       "3    2.530046  2.185514  \n",
       "4    2.598517  1.764624  \n",
       "..        ...       ...  \n",
       "145  2.413685  2.018971  \n",
       "146  2.219480  1.992730  \n",
       "147  2.282543  2.055703  \n",
       "148  1.968483  2.318502  \n",
       "149  3.005292  2.232793  \n",
       "\n",
       "[150 rows x 3312 columns]"
      ]
     },
     "execution_count": 5,
     "metadata": {},
     "output_type": "execute_result"
    }
   ],
   "source": [
    "TD1_dataset"
   ]
  },
  {
   "cell_type": "code",
   "execution_count": 6,
   "id": "65b4f6a5-9c80-4a6b-b666-7c4fcdf3d257",
   "metadata": {},
   "outputs": [
    {
     "data": {
      "text/html": [
       "<div>\n",
       "<style scoped>\n",
       "    .dataframe tbody tr th:only-of-type {\n",
       "        vertical-align: middle;\n",
       "    }\n",
       "\n",
       "    .dataframe tbody tr th {\n",
       "        vertical-align: top;\n",
       "    }\n",
       "\n",
       "    .dataframe thead th {\n",
       "        text-align: right;\n",
       "    }\n",
       "</style>\n",
       "<table border=\"1\" class=\"dataframe\">\n",
       "  <thead>\n",
       "    <tr style=\"text-align: right;\">\n",
       "      <th></th>\n",
       "      <th>0</th>\n",
       "    </tr>\n",
       "  </thead>\n",
       "  <tbody>\n",
       "    <tr>\n",
       "      <th>0</th>\n",
       "      <td>1</td>\n",
       "    </tr>\n",
       "    <tr>\n",
       "      <th>1</th>\n",
       "      <td>1</td>\n",
       "    </tr>\n",
       "    <tr>\n",
       "      <th>2</th>\n",
       "      <td>2</td>\n",
       "    </tr>\n",
       "    <tr>\n",
       "      <th>3</th>\n",
       "      <td>1</td>\n",
       "    </tr>\n",
       "    <tr>\n",
       "      <th>4</th>\n",
       "      <td>1</td>\n",
       "    </tr>\n",
       "    <tr>\n",
       "      <th>...</th>\n",
       "      <td>...</td>\n",
       "    </tr>\n",
       "    <tr>\n",
       "      <th>145</th>\n",
       "      <td>1</td>\n",
       "    </tr>\n",
       "    <tr>\n",
       "      <th>146</th>\n",
       "      <td>1</td>\n",
       "    </tr>\n",
       "    <tr>\n",
       "      <th>147</th>\n",
       "      <td>1</td>\n",
       "    </tr>\n",
       "    <tr>\n",
       "      <th>148</th>\n",
       "      <td>4</td>\n",
       "    </tr>\n",
       "    <tr>\n",
       "      <th>149</th>\n",
       "      <td>1</td>\n",
       "    </tr>\n",
       "  </tbody>\n",
       "</table>\n",
       "<p>150 rows × 1 columns</p>\n",
       "</div>"
      ],
      "text/plain": [
       "     0\n",
       "0    1\n",
       "1    1\n",
       "2    2\n",
       "3    1\n",
       "4    1\n",
       "..  ..\n",
       "145  1\n",
       "146  1\n",
       "147  1\n",
       "148  4\n",
       "149  1\n",
       "\n",
       "[150 rows x 1 columns]"
      ]
     },
     "execution_count": 6,
     "metadata": {},
     "output_type": "execute_result"
    }
   ],
   "source": [
    "TD1_labels"
   ]
  },
  {
   "cell_type": "markdown",
   "id": "fdb30d4a-a882-4ef5-ac87-3f33619e1d1d",
   "metadata": {},
   "source": [
    "<h2>Handling Missing Values</h2>\n",
    "A missing entry is filled by 1.00000000000000e+99"
   ]
  },
  {
   "cell_type": "code",
   "execution_count": 8,
   "id": "37605122-d8cc-449c-9e50-d3246d33067d",
   "metadata": {},
   "outputs": [
    {
     "data": {
      "text/plain": [
       "9936"
      ]
     },
     "execution_count": 8,
     "metadata": {},
     "output_type": "execute_result"
    }
   ],
   "source": [
    "#How many missing values are there?\n",
    "TD1_missing_entry_val= [1.00000000000000e+99]\n",
    "TD1_missingvals = TD1_dataset.isin(TD1_missing_entry_val).sum().sum()\n",
    "TD1_missingvals"
   ]
  },
  {
   "cell_type": "code",
   "execution_count": 9,
   "id": "83419fd6-0f22-4a68-b913-dbea625525e6",
   "metadata": {},
   "outputs": [
    {
     "data": {
      "text/plain": [
       "0       2\n",
       "1       1\n",
       "2       2\n",
       "3       2\n",
       "4       3\n",
       "       ..\n",
       "3307    1\n",
       "3308    1\n",
       "3309    4\n",
       "3310    5\n",
       "3311    2\n",
       "Length: 3312, dtype: int64"
      ]
     },
     "execution_count": 9,
     "metadata": {},
     "output_type": "execute_result"
    }
   ],
   "source": [
    "#How many values are missing in each column\n",
    "TD1_dataset.isin(TD1_missing_entry_val).sum()"
   ]
  },
  {
   "cell_type": "markdown",
   "id": "bed30a10-c293-4fae-9dd8-8b8a22afaa9e",
   "metadata": {},
   "source": [
    "<h3>Imputation Method: KNN</h3>\n",
    "We initially wanted to use an Iterative Imputer, but due to the size of the dataset,\n",
    "<br>We had to go with a KNN imputation. Fortunately, we know that this method is successful."
   ]
  },
  {
   "cell_type": "code",
   "execution_count": 11,
   "id": "0ad875fc-d6f4-4f27-8487-6e249527beda",
   "metadata": {},
   "outputs": [],
   "source": [
    "from sklearn.experimental import enable_iterative_imputer\n",
    "from sklearn.impute import IterativeImputer"
   ]
  },
  {
   "cell_type": "code",
   "execution_count": 12,
   "id": "cc5a434e-f82b-48c8-aff6-de817409711e",
   "metadata": {},
   "outputs": [],
   "source": [
    "from sklearn.impute import KNNImputer\n",
    "imputer = KNNImputer(n_neighbors=2, weights=\"uniform\", missing_values= 1.00000000000000e+99)\n",
    "TD1_features_handled = imputer.fit_transform(TD1_features)\n",
    "TD1_features_handled = pd.DataFrame(TD1_features_handled)"
   ]
  },
  {
   "cell_type": "code",
   "execution_count": 13,
   "id": "c75ee344-550c-47bb-82a2-267fbda4449f",
   "metadata": {},
   "outputs": [
    {
     "data": {
      "text/html": [
       "<div>\n",
       "<style scoped>\n",
       "    .dataframe tbody tr th:only-of-type {\n",
       "        vertical-align: middle;\n",
       "    }\n",
       "\n",
       "    .dataframe tbody tr th {\n",
       "        vertical-align: top;\n",
       "    }\n",
       "\n",
       "    .dataframe thead th {\n",
       "        text-align: right;\n",
       "    }\n",
       "</style>\n",
       "<table border=\"1\" class=\"dataframe\">\n",
       "  <thead>\n",
       "    <tr style=\"text-align: right;\">\n",
       "      <th></th>\n",
       "      <th>0</th>\n",
       "      <th>1</th>\n",
       "      <th>2</th>\n",
       "      <th>3</th>\n",
       "      <th>4</th>\n",
       "      <th>5</th>\n",
       "      <th>6</th>\n",
       "      <th>7</th>\n",
       "      <th>8</th>\n",
       "      <th>9</th>\n",
       "      <th>...</th>\n",
       "      <th>3302</th>\n",
       "      <th>3303</th>\n",
       "      <th>3304</th>\n",
       "      <th>3305</th>\n",
       "      <th>3306</th>\n",
       "      <th>3307</th>\n",
       "      <th>3308</th>\n",
       "      <th>3309</th>\n",
       "      <th>3310</th>\n",
       "      <th>3311</th>\n",
       "    </tr>\n",
       "  </thead>\n",
       "  <tbody>\n",
       "    <tr>\n",
       "      <th>0</th>\n",
       "      <td>3.824254</td>\n",
       "      <td>1.923762</td>\n",
       "      <td>1.918450</td>\n",
       "      <td>2.352067</td>\n",
       "      <td>3.117298</td>\n",
       "      <td>3.051735</td>\n",
       "      <td>3.307977</td>\n",
       "      <td>3.430222</td>\n",
       "      <td>3.586667</td>\n",
       "      <td>3.605218</td>\n",
       "      <td>...</td>\n",
       "      <td>1.836830</td>\n",
       "      <td>1.855640</td>\n",
       "      <td>1.142389</td>\n",
       "      <td>2.054345</td>\n",
       "      <td>2.808224</td>\n",
       "      <td>1.782186</td>\n",
       "      <td>2.665703</td>\n",
       "      <td>2.468214</td>\n",
       "      <td>2.478581</td>\n",
       "      <td>2.308842</td>\n",
       "    </tr>\n",
       "    <tr>\n",
       "      <th>1</th>\n",
       "      <td>3.904190</td>\n",
       "      <td>2.309524</td>\n",
       "      <td>2.152930</td>\n",
       "      <td>2.519021</td>\n",
       "      <td>3.532368</td>\n",
       "      <td>3.524866</td>\n",
       "      <td>3.677791</td>\n",
       "      <td>3.636671</td>\n",
       "      <td>3.696868</td>\n",
       "      <td>3.716764</td>\n",
       "      <td>...</td>\n",
       "      <td>1.951532</td>\n",
       "      <td>1.442323</td>\n",
       "      <td>1.000000</td>\n",
       "      <td>2.127914</td>\n",
       "      <td>2.979658</td>\n",
       "      <td>1.961089</td>\n",
       "      <td>2.519027</td>\n",
       "      <td>2.054383</td>\n",
       "      <td>2.689903</td>\n",
       "      <td>2.090928</td>\n",
       "    </tr>\n",
       "    <tr>\n",
       "      <th>2</th>\n",
       "      <td>3.750908</td>\n",
       "      <td>1.161068</td>\n",
       "      <td>1.017033</td>\n",
       "      <td>2.347993</td>\n",
       "      <td>3.381889</td>\n",
       "      <td>3.393096</td>\n",
       "      <td>3.509134</td>\n",
       "      <td>3.512466</td>\n",
       "      <td>3.622203</td>\n",
       "      <td>3.603050</td>\n",
       "      <td>...</td>\n",
       "      <td>1.000000</td>\n",
       "      <td>1.584105</td>\n",
       "      <td>1.000000</td>\n",
       "      <td>1.945321</td>\n",
       "      <td>3.257004</td>\n",
       "      <td>1.965061</td>\n",
       "      <td>2.536066</td>\n",
       "      <td>1.449324</td>\n",
       "      <td>2.605230</td>\n",
       "      <td>1.368659</td>\n",
       "    </tr>\n",
       "    <tr>\n",
       "      <th>3</th>\n",
       "      <td>3.809383</td>\n",
       "      <td>1.912355</td>\n",
       "      <td>1.856940</td>\n",
       "      <td>2.498944</td>\n",
       "      <td>3.289406</td>\n",
       "      <td>3.371232</td>\n",
       "      <td>3.541995</td>\n",
       "      <td>3.474415</td>\n",
       "      <td>3.473179</td>\n",
       "      <td>3.628930</td>\n",
       "      <td>...</td>\n",
       "      <td>1.869965</td>\n",
       "      <td>1.481658</td>\n",
       "      <td>1.000000</td>\n",
       "      <td>2.155032</td>\n",
       "      <td>3.270371</td>\n",
       "      <td>1.928473</td>\n",
       "      <td>2.618074</td>\n",
       "      <td>2.154013</td>\n",
       "      <td>2.530046</td>\n",
       "      <td>2.185514</td>\n",
       "    </tr>\n",
       "    <tr>\n",
       "      <th>4</th>\n",
       "      <td>3.893561</td>\n",
       "      <td>2.094192</td>\n",
       "      <td>1.881271</td>\n",
       "      <td>2.785707</td>\n",
       "      <td>3.344339</td>\n",
       "      <td>3.274417</td>\n",
       "      <td>3.485872</td>\n",
       "      <td>3.516527</td>\n",
       "      <td>3.642358</td>\n",
       "      <td>3.688235</td>\n",
       "      <td>...</td>\n",
       "      <td>1.480725</td>\n",
       "      <td>1.510545</td>\n",
       "      <td>1.000000</td>\n",
       "      <td>2.094192</td>\n",
       "      <td>3.246666</td>\n",
       "      <td>1.824516</td>\n",
       "      <td>2.562317</td>\n",
       "      <td>1.942256</td>\n",
       "      <td>2.598517</td>\n",
       "      <td>1.764624</td>\n",
       "    </tr>\n",
       "    <tr>\n",
       "      <th>...</th>\n",
       "      <td>...</td>\n",
       "      <td>...</td>\n",
       "      <td>...</td>\n",
       "      <td>...</td>\n",
       "      <td>...</td>\n",
       "      <td>...</td>\n",
       "      <td>...</td>\n",
       "      <td>...</td>\n",
       "      <td>...</td>\n",
       "      <td>...</td>\n",
       "      <td>...</td>\n",
       "      <td>...</td>\n",
       "      <td>...</td>\n",
       "      <td>...</td>\n",
       "      <td>...</td>\n",
       "      <td>...</td>\n",
       "      <td>...</td>\n",
       "      <td>...</td>\n",
       "      <td>...</td>\n",
       "      <td>...</td>\n",
       "      <td>...</td>\n",
       "    </tr>\n",
       "    <tr>\n",
       "      <th>145</th>\n",
       "      <td>3.901178</td>\n",
       "      <td>1.672421</td>\n",
       "      <td>1.869554</td>\n",
       "      <td>2.234758</td>\n",
       "      <td>3.098457</td>\n",
       "      <td>3.469689</td>\n",
       "      <td>3.565574</td>\n",
       "      <td>3.653364</td>\n",
       "      <td>3.720899</td>\n",
       "      <td>3.677092</td>\n",
       "      <td>...</td>\n",
       "      <td>2.140555</td>\n",
       "      <td>1.960423</td>\n",
       "      <td>1.240300</td>\n",
       "      <td>2.149958</td>\n",
       "      <td>3.042383</td>\n",
       "      <td>1.799134</td>\n",
       "      <td>2.772116</td>\n",
       "      <td>2.460484</td>\n",
       "      <td>2.413685</td>\n",
       "      <td>2.018971</td>\n",
       "    </tr>\n",
       "    <tr>\n",
       "      <th>146</th>\n",
       "      <td>3.865257</td>\n",
       "      <td>1.796990</td>\n",
       "      <td>1.643650</td>\n",
       "      <td>2.307902</td>\n",
       "      <td>3.411704</td>\n",
       "      <td>3.410870</td>\n",
       "      <td>3.527868</td>\n",
       "      <td>3.488609</td>\n",
       "      <td>3.465846</td>\n",
       "      <td>3.652136</td>\n",
       "      <td>...</td>\n",
       "      <td>2.183981</td>\n",
       "      <td>2.519171</td>\n",
       "      <td>1.000000</td>\n",
       "      <td>2.174641</td>\n",
       "      <td>2.902840</td>\n",
       "      <td>1.844850</td>\n",
       "      <td>2.647755</td>\n",
       "      <td>1.000000</td>\n",
       "      <td>2.219480</td>\n",
       "      <td>1.992730</td>\n",
       "    </tr>\n",
       "    <tr>\n",
       "      <th>147</th>\n",
       "      <td>3.860198</td>\n",
       "      <td>2.097778</td>\n",
       "      <td>1.812825</td>\n",
       "      <td>2.438788</td>\n",
       "      <td>3.365076</td>\n",
       "      <td>3.391729</td>\n",
       "      <td>3.461051</td>\n",
       "      <td>3.408433</td>\n",
       "      <td>3.531799</td>\n",
       "      <td>3.559242</td>\n",
       "      <td>...</td>\n",
       "      <td>2.082990</td>\n",
       "      <td>2.478032</td>\n",
       "      <td>1.358316</td>\n",
       "      <td>2.125741</td>\n",
       "      <td>3.041140</td>\n",
       "      <td>1.779308</td>\n",
       "      <td>2.585771</td>\n",
       "      <td>1.000000</td>\n",
       "      <td>2.282543</td>\n",
       "      <td>2.055703</td>\n",
       "    </tr>\n",
       "    <tr>\n",
       "      <th>148</th>\n",
       "      <td>3.907102</td>\n",
       "      <td>1.000000</td>\n",
       "      <td>1.473633</td>\n",
       "      <td>2.158604</td>\n",
       "      <td>3.459391</td>\n",
       "      <td>3.478222</td>\n",
       "      <td>3.621380</td>\n",
       "      <td>3.480155</td>\n",
       "      <td>3.595473</td>\n",
       "      <td>3.627081</td>\n",
       "      <td>...</td>\n",
       "      <td>2.232310</td>\n",
       "      <td>1.380573</td>\n",
       "      <td>1.000000</td>\n",
       "      <td>2.105578</td>\n",
       "      <td>2.902655</td>\n",
       "      <td>2.156428</td>\n",
       "      <td>2.272538</td>\n",
       "      <td>1.000000</td>\n",
       "      <td>1.968483</td>\n",
       "      <td>2.318502</td>\n",
       "    </tr>\n",
       "    <tr>\n",
       "      <th>149</th>\n",
       "      <td>3.763867</td>\n",
       "      <td>2.281193</td>\n",
       "      <td>2.199179</td>\n",
       "      <td>2.579235</td>\n",
       "      <td>3.382473</td>\n",
       "      <td>3.375192</td>\n",
       "      <td>3.514874</td>\n",
       "      <td>3.597044</td>\n",
       "      <td>3.663170</td>\n",
       "      <td>3.617475</td>\n",
       "      <td>...</td>\n",
       "      <td>2.295435</td>\n",
       "      <td>1.488551</td>\n",
       "      <td>1.000000</td>\n",
       "      <td>2.021685</td>\n",
       "      <td>3.244604</td>\n",
       "      <td>2.413166</td>\n",
       "      <td>2.418467</td>\n",
       "      <td>1.473341</td>\n",
       "      <td>3.005292</td>\n",
       "      <td>2.232793</td>\n",
       "    </tr>\n",
       "  </tbody>\n",
       "</table>\n",
       "<p>150 rows × 3312 columns</p>\n",
       "</div>"
      ],
      "text/plain": [
       "         0         1         2         3         4         5         6     \\\n",
       "0    3.824254  1.923762  1.918450  2.352067  3.117298  3.051735  3.307977   \n",
       "1    3.904190  2.309524  2.152930  2.519021  3.532368  3.524866  3.677791   \n",
       "2    3.750908  1.161068  1.017033  2.347993  3.381889  3.393096  3.509134   \n",
       "3    3.809383  1.912355  1.856940  2.498944  3.289406  3.371232  3.541995   \n",
       "4    3.893561  2.094192  1.881271  2.785707  3.344339  3.274417  3.485872   \n",
       "..        ...       ...       ...       ...       ...       ...       ...   \n",
       "145  3.901178  1.672421  1.869554  2.234758  3.098457  3.469689  3.565574   \n",
       "146  3.865257  1.796990  1.643650  2.307902  3.411704  3.410870  3.527868   \n",
       "147  3.860198  2.097778  1.812825  2.438788  3.365076  3.391729  3.461051   \n",
       "148  3.907102  1.000000  1.473633  2.158604  3.459391  3.478222  3.621380   \n",
       "149  3.763867  2.281193  2.199179  2.579235  3.382473  3.375192  3.514874   \n",
       "\n",
       "         7         8         9     ...      3302      3303      3304  \\\n",
       "0    3.430222  3.586667  3.605218  ...  1.836830  1.855640  1.142389   \n",
       "1    3.636671  3.696868  3.716764  ...  1.951532  1.442323  1.000000   \n",
       "2    3.512466  3.622203  3.603050  ...  1.000000  1.584105  1.000000   \n",
       "3    3.474415  3.473179  3.628930  ...  1.869965  1.481658  1.000000   \n",
       "4    3.516527  3.642358  3.688235  ...  1.480725  1.510545  1.000000   \n",
       "..        ...       ...       ...  ...       ...       ...       ...   \n",
       "145  3.653364  3.720899  3.677092  ...  2.140555  1.960423  1.240300   \n",
       "146  3.488609  3.465846  3.652136  ...  2.183981  2.519171  1.000000   \n",
       "147  3.408433  3.531799  3.559242  ...  2.082990  2.478032  1.358316   \n",
       "148  3.480155  3.595473  3.627081  ...  2.232310  1.380573  1.000000   \n",
       "149  3.597044  3.663170  3.617475  ...  2.295435  1.488551  1.000000   \n",
       "\n",
       "         3305      3306      3307      3308      3309      3310      3311  \n",
       "0    2.054345  2.808224  1.782186  2.665703  2.468214  2.478581  2.308842  \n",
       "1    2.127914  2.979658  1.961089  2.519027  2.054383  2.689903  2.090928  \n",
       "2    1.945321  3.257004  1.965061  2.536066  1.449324  2.605230  1.368659  \n",
       "3    2.155032  3.270371  1.928473  2.618074  2.154013  2.530046  2.185514  \n",
       "4    2.094192  3.246666  1.824516  2.562317  1.942256  2.598517  1.764624  \n",
       "..        ...       ...       ...       ...       ...       ...       ...  \n",
       "145  2.149958  3.042383  1.799134  2.772116  2.460484  2.413685  2.018971  \n",
       "146  2.174641  2.902840  1.844850  2.647755  1.000000  2.219480  1.992730  \n",
       "147  2.125741  3.041140  1.779308  2.585771  1.000000  2.282543  2.055703  \n",
       "148  2.105578  2.902655  2.156428  2.272538  1.000000  1.968483  2.318502  \n",
       "149  2.021685  3.244604  2.413166  2.418467  1.473341  3.005292  2.232793  \n",
       "\n",
       "[150 rows x 3312 columns]"
      ]
     },
     "execution_count": 13,
     "metadata": {},
     "output_type": "execute_result"
    }
   ],
   "source": [
    "TD1_features_handled"
   ]
  },
  {
   "cell_type": "code",
   "execution_count": 21,
   "id": "b667d8a0-04ba-48c3-9a9e-e7e706df7116",
   "metadata": {},
   "outputs": [
    {
     "data": {
      "text/plain": [
       "0"
      ]
     },
     "execution_count": 21,
     "metadata": {},
     "output_type": "execute_result"
    }
   ],
   "source": [
    "TD1_features_handled.isin(TD1_missing_entry_val).sum().sum()"
   ]
  },
  {
   "cell_type": "code",
   "execution_count": 23,
   "id": "46218321-9f79-4629-ad2c-9fb7c2ce5518",
   "metadata": {},
   "outputs": [],
   "source": [
    "from sklearn.model_selection import train_test_split\n",
    "#Splitting the data. The Training data will be X and our Training label will be y\n",
    "X = TD1_features_handled\n",
    "y = TD1_labels\n",
    "X_train, X_test, y_train, y_test = train_test_split(X, y, train_size = 0.8 ,test_size=0.2, random_state=42)"
   ]
  },
  {
   "cell_type": "code",
   "execution_count": 25,
   "id": "45e047b4-c9cb-4ec5-8635-e131eb78e079",
   "metadata": {},
   "outputs": [
    {
     "name": "stdout",
     "output_type": "stream",
     "text": [
      "Class distribution:\n",
      "Class 1: 86 samples\n",
      "Class 2: 11 samples\n",
      "Class 3: 8 samples\n",
      "Class 4: 13 samples\n",
      "Class 5: 2 samples\n"
     ]
    }
   ],
   "source": [
    "unique_classes, counts = np.unique(y_train, return_counts=True)\n",
    "print(\"Class distribution:\")\n",
    "for cls, count in zip(unique_classes, counts):\n",
    "    print(f\"Class {cls}: {count} samples\")"
   ]
  },
  {
   "cell_type": "markdown",
   "id": "c02fb9fb-4f4e-4087-b2dc-7908191a9ea0",
   "metadata": {},
   "source": [
    "<h3>Scaling</h3>"
   ]
  },
  {
   "cell_type": "code",
   "execution_count": 27,
   "id": "f69b850b-03f9-4f9d-b1ef-6c4e847f5e99",
   "metadata": {},
   "outputs": [],
   "source": [
    "from sklearn.preprocessing import StandardScaler\n",
    "\n",
    "scaler = StandardScaler()\n",
    "#fit = learns the parameters ( mean and standard deviation)\n",
    "\n",
    "scaled = scaler.fit_transform(X)"
   ]
  },
  {
   "cell_type": "code",
   "execution_count": 29,
   "id": "116003af-6fc2-454e-9fb7-498a5c1056f2",
   "metadata": {},
   "outputs": [
    {
     "name": "stderr",
     "output_type": "stream",
     "text": [
      "/Users/bada/anaconda3/lib/python3.11/site-packages/sklearn/base.py:1473: DataConversionWarning: A column-vector y was passed when a 1d array was expected. Please change the shape of y to (n_samples,), for example using ravel().\n",
      "  return fit_method(estimator, *args, **kwargs)\n"
     ]
    },
    {
     "name": "stdout",
     "output_type": "stream",
     "text": [
      "\n",
      "Accuracy Random Forest: 0.8666666666666667\n",
      "\n",
      "Accuracy KNN: 0.9\n"
     ]
    },
    {
     "name": "stderr",
     "output_type": "stream",
     "text": [
      "/Users/bada/anaconda3/lib/python3.11/site-packages/sklearn/neighbors/_classification.py:238: DataConversionWarning: A column-vector y was passed when a 1d array was expected. Please change the shape of y to (n_samples,), for example using ravel().\n",
      "  return self._fit(X, y)\n"
     ]
    },
    {
     "name": "stdout",
     "output_type": "stream",
     "text": [
      "\n",
      "Accuracy DTC: 0.7333333333333333\n",
      "\n",
      "Accuracy GaussianNB: 0.8\n",
      "\n",
      "Accuracy SVM: 0.9666666666666667\n"
     ]
    },
    {
     "name": "stderr",
     "output_type": "stream",
     "text": [
      "/Users/bada/anaconda3/lib/python3.11/site-packages/sklearn/utils/validation.py:1310: DataConversionWarning: A column-vector y was passed when a 1d array was expected. Please change the shape of y to (n_samples, ), for example using ravel().\n",
      "  y = column_or_1d(y, warn=True)\n",
      "/Users/bada/anaconda3/lib/python3.11/site-packages/sklearn/utils/validation.py:1310: DataConversionWarning: A column-vector y was passed when a 1d array was expected. Please change the shape of y to (n_samples, ), for example using ravel().\n",
      "  y = column_or_1d(y, warn=True)\n"
     ]
    }
   ],
   "source": [
    "from sklearn import metrics\n",
    "from sklearn.ensemble import RandomForestClassifier\n",
    "from sklearn.neighbors import KNeighborsClassifier\n",
    "from sklearn.tree import DecisionTreeClassifier\n",
    "from sklearn.naive_bayes import GaussianNB\n",
    "from sklearn import svm\n",
    "\n",
    "\n",
    "rf = RandomForestClassifier()\n",
    "rf.fit(X_train, y_train)\n",
    "rf_y_pred = rf.predict(X_test)\n",
    "print('\\nAccuracy Random Forest:', metrics.accuracy_score(y_test, rf_y_pred))\n",
    "\n",
    "knn = KNeighborsClassifier()\n",
    "knn.fit(X_train, y_train)\n",
    "knn_y_pred = knn.predict(X_test)\n",
    "print('\\nAccuracy KNN:', metrics.accuracy_score(y_test, knn_y_pred))\n",
    "\n",
    "dtc = DecisionTreeClassifier()\n",
    "dtc.fit(X_train, y_train)\n",
    "dtc_y_pred = dtc.predict(X_test)\n",
    "print('\\nAccuracy DTC:', metrics.accuracy_score(y_test, dtc_y_pred))\n",
    "\n",
    "gnb = GaussianNB()\n",
    "gnb.fit(X_train, y_train)\n",
    "gnb_y_pred = gnb.predict(X_test)\n",
    "print('\\nAccuracy GaussianNB:', metrics.accuracy_score(y_test, gnb_y_pred))\n",
    "\n",
    "clf = svm.SVC(kernel='linear') \n",
    "clf.fit(X_train, y_train)\n",
    "y_pred = clf.predict(X_test)\n",
    "print('\\nAccuracy SVM:',metrics.accuracy_score(y_test, y_pred))"
   ]
  },
  {
   "cell_type": "markdown",
   "id": "00026995-edab-4b32-8145-ee716271466d",
   "metadata": {},
   "source": [
    "<h3>Which Model had the highest accuracy?</h3>\n",
    "<b>Support Vector Machine</b> has the highest accuracy score of <b>96%</b>"
   ]
  },
  {
   "cell_type": "markdown",
   "id": "a6f83f70-e1ba-4ccd-9600-c73e8db5276b",
   "metadata": {},
   "source": [
    "<h2> Hypertuning: What are the Best Paramters for Our Chosen Model(s)?</h2>\n",
    "Since Support Vector Machine has an accuracy score of 96%, We will hypertune to see which paramaters work best for SVM"
   ]
  },
  {
   "cell_type": "code",
   "execution_count": 31,
   "id": "940d395f-ec6c-4590-825a-2d04dadeb7d6",
   "metadata": {},
   "outputs": [
    {
     "name": "stdout",
     "output_type": "stream",
     "text": [
      "Fitting 5 folds for each of 25 candidates, totalling 125 fits\n",
      "[CV 1/5] END .....C=0.1, gamma=1, kernel=linear;, score=1.000 total time=   0.1s\n",
      "[CV 2/5] END .....C=0.1, gamma=1, kernel=linear;, score=1.000 total time=   0.0s\n",
      "[CV 3/5] END .....C=0.1, gamma=1, kernel=linear;, score=1.000 total time=   0.0s\n",
      "[CV 4/5] END .....C=0.1, gamma=1, kernel=linear;, score=0.917 total time=   0.0s\n"
     ]
    },
    {
     "name": "stderr",
     "output_type": "stream",
     "text": [
      "/Users/bada/anaconda3/lib/python3.11/site-packages/sklearn/model_selection/_split.py:776: UserWarning: The least populated class in y has only 2 members, which is less than n_splits=5.\n",
      "  warnings.warn(\n",
      "/Users/bada/anaconda3/lib/python3.11/site-packages/sklearn/utils/validation.py:1310: DataConversionWarning: A column-vector y was passed when a 1d array was expected. Please change the shape of y to (n_samples, ), for example using ravel().\n",
      "  y = column_or_1d(y, warn=True)\n",
      "/Users/bada/anaconda3/lib/python3.11/site-packages/sklearn/utils/validation.py:1310: DataConversionWarning: A column-vector y was passed when a 1d array was expected. Please change the shape of y to (n_samples, ), for example using ravel().\n",
      "  y = column_or_1d(y, warn=True)\n",
      "/Users/bada/anaconda3/lib/python3.11/site-packages/sklearn/utils/validation.py:1310: DataConversionWarning: A column-vector y was passed when a 1d array was expected. Please change the shape of y to (n_samples, ), for example using ravel().\n",
      "  y = column_or_1d(y, warn=True)\n",
      "/Users/bada/anaconda3/lib/python3.11/site-packages/sklearn/utils/validation.py:1310: DataConversionWarning: A column-vector y was passed when a 1d array was expected. Please change the shape of y to (n_samples, ), for example using ravel().\n",
      "  y = column_or_1d(y, warn=True)\n",
      "/Users/bada/anaconda3/lib/python3.11/site-packages/sklearn/utils/validation.py:1310: DataConversionWarning: A column-vector y was passed when a 1d array was expected. Please change the shape of y to (n_samples, ), for example using ravel().\n",
      "  y = column_or_1d(y, warn=True)\n",
      "/Users/bada/anaconda3/lib/python3.11/site-packages/sklearn/utils/validation.py:1310: DataConversionWarning: A column-vector y was passed when a 1d array was expected. Please change the shape of y to (n_samples, ), for example using ravel().\n",
      "  y = column_or_1d(y, warn=True)\n",
      "/Users/bada/anaconda3/lib/python3.11/site-packages/sklearn/utils/validation.py:1310: DataConversionWarning: A column-vector y was passed when a 1d array was expected. Please change the shape of y to (n_samples, ), for example using ravel().\n",
      "  y = column_or_1d(y, warn=True)\n",
      "/Users/bada/anaconda3/lib/python3.11/site-packages/sklearn/utils/validation.py:1310: DataConversionWarning: A column-vector y was passed when a 1d array was expected. Please change the shape of y to (n_samples, ), for example using ravel().\n",
      "  y = column_or_1d(y, warn=True)\n",
      "/Users/bada/anaconda3/lib/python3.11/site-packages/sklearn/utils/validation.py:1310: DataConversionWarning: A column-vector y was passed when a 1d array was expected. Please change the shape of y to (n_samples, ), for example using ravel().\n",
      "  y = column_or_1d(y, warn=True)\n"
     ]
    },
    {
     "name": "stdout",
     "output_type": "stream",
     "text": [
      "[CV 5/5] END .....C=0.1, gamma=1, kernel=linear;, score=0.958 total time=   0.0s\n",
      "[CV 1/5] END ...C=0.1, gamma=0.1, kernel=linear;, score=1.000 total time=   0.0s\n",
      "[CV 2/5] END ...C=0.1, gamma=0.1, kernel=linear;, score=1.000 total time=   0.0s\n",
      "[CV 3/5] END ...C=0.1, gamma=0.1, kernel=linear;, score=1.000 total time=   0.0s\n",
      "[CV 4/5] END ...C=0.1, gamma=0.1, kernel=linear;, score=0.917 total time=   0.0s\n"
     ]
    },
    {
     "name": "stderr",
     "output_type": "stream",
     "text": [
      "/Users/bada/anaconda3/lib/python3.11/site-packages/sklearn/utils/validation.py:1310: DataConversionWarning: A column-vector y was passed when a 1d array was expected. Please change the shape of y to (n_samples, ), for example using ravel().\n",
      "  y = column_or_1d(y, warn=True)\n",
      "/Users/bada/anaconda3/lib/python3.11/site-packages/sklearn/utils/validation.py:1310: DataConversionWarning: A column-vector y was passed when a 1d array was expected. Please change the shape of y to (n_samples, ), for example using ravel().\n",
      "  y = column_or_1d(y, warn=True)\n",
      "/Users/bada/anaconda3/lib/python3.11/site-packages/sklearn/utils/validation.py:1310: DataConversionWarning: A column-vector y was passed when a 1d array was expected. Please change the shape of y to (n_samples, ), for example using ravel().\n",
      "  y = column_or_1d(y, warn=True)\n",
      "/Users/bada/anaconda3/lib/python3.11/site-packages/sklearn/utils/validation.py:1310: DataConversionWarning: A column-vector y was passed when a 1d array was expected. Please change the shape of y to (n_samples, ), for example using ravel().\n",
      "  y = column_or_1d(y, warn=True)\n",
      "/Users/bada/anaconda3/lib/python3.11/site-packages/sklearn/utils/validation.py:1310: DataConversionWarning: A column-vector y was passed when a 1d array was expected. Please change the shape of y to (n_samples, ), for example using ravel().\n",
      "  y = column_or_1d(y, warn=True)\n"
     ]
    },
    {
     "name": "stdout",
     "output_type": "stream",
     "text": [
      "[CV 5/5] END ...C=0.1, gamma=0.1, kernel=linear;, score=0.958 total time=   0.0s\n",
      "[CV 1/5] END ..C=0.1, gamma=0.01, kernel=linear;, score=1.000 total time=   0.0s\n",
      "[CV 2/5] END ..C=0.1, gamma=0.01, kernel=linear;, score=1.000 total time=   0.0s\n",
      "[CV 3/5] END ..C=0.1, gamma=0.01, kernel=linear;, score=1.000 total time=   0.0s\n",
      "[CV 4/5] END ..C=0.1, gamma=0.01, kernel=linear;, score=0.917 total time=   0.0s\n"
     ]
    },
    {
     "name": "stderr",
     "output_type": "stream",
     "text": [
      "/Users/bada/anaconda3/lib/python3.11/site-packages/sklearn/utils/validation.py:1310: DataConversionWarning: A column-vector y was passed when a 1d array was expected. Please change the shape of y to (n_samples, ), for example using ravel().\n",
      "  y = column_or_1d(y, warn=True)\n",
      "/Users/bada/anaconda3/lib/python3.11/site-packages/sklearn/utils/validation.py:1310: DataConversionWarning: A column-vector y was passed when a 1d array was expected. Please change the shape of y to (n_samples, ), for example using ravel().\n",
      "  y = column_or_1d(y, warn=True)\n",
      "/Users/bada/anaconda3/lib/python3.11/site-packages/sklearn/utils/validation.py:1310: DataConversionWarning: A column-vector y was passed when a 1d array was expected. Please change the shape of y to (n_samples, ), for example using ravel().\n",
      "  y = column_or_1d(y, warn=True)\n",
      "/Users/bada/anaconda3/lib/python3.11/site-packages/sklearn/utils/validation.py:1310: DataConversionWarning: A column-vector y was passed when a 1d array was expected. Please change the shape of y to (n_samples, ), for example using ravel().\n",
      "  y = column_or_1d(y, warn=True)\n",
      "/Users/bada/anaconda3/lib/python3.11/site-packages/sklearn/utils/validation.py:1310: DataConversionWarning: A column-vector y was passed when a 1d array was expected. Please change the shape of y to (n_samples, ), for example using ravel().\n",
      "  y = column_or_1d(y, warn=True)\n"
     ]
    },
    {
     "name": "stdout",
     "output_type": "stream",
     "text": [
      "[CV 5/5] END ..C=0.1, gamma=0.01, kernel=linear;, score=0.958 total time=   0.0s\n",
      "[CV 1/5] END .C=0.1, gamma=0.001, kernel=linear;, score=1.000 total time=   0.0s\n",
      "[CV 2/5] END .C=0.1, gamma=0.001, kernel=linear;, score=1.000 total time=   0.0s\n",
      "[CV 3/5] END .C=0.1, gamma=0.001, kernel=linear;, score=1.000 total time=   0.0s\n",
      "[CV 4/5] END .C=0.1, gamma=0.001, kernel=linear;, score=0.917 total time=   0.0s\n"
     ]
    },
    {
     "name": "stderr",
     "output_type": "stream",
     "text": [
      "/Users/bada/anaconda3/lib/python3.11/site-packages/sklearn/utils/validation.py:1310: DataConversionWarning: A column-vector y was passed when a 1d array was expected. Please change the shape of y to (n_samples, ), for example using ravel().\n",
      "  y = column_or_1d(y, warn=True)\n",
      "/Users/bada/anaconda3/lib/python3.11/site-packages/sklearn/utils/validation.py:1310: DataConversionWarning: A column-vector y was passed when a 1d array was expected. Please change the shape of y to (n_samples, ), for example using ravel().\n",
      "  y = column_or_1d(y, warn=True)\n",
      "/Users/bada/anaconda3/lib/python3.11/site-packages/sklearn/utils/validation.py:1310: DataConversionWarning: A column-vector y was passed when a 1d array was expected. Please change the shape of y to (n_samples, ), for example using ravel().\n",
      "  y = column_or_1d(y, warn=True)\n",
      "/Users/bada/anaconda3/lib/python3.11/site-packages/sklearn/utils/validation.py:1310: DataConversionWarning: A column-vector y was passed when a 1d array was expected. Please change the shape of y to (n_samples, ), for example using ravel().\n",
      "  y = column_or_1d(y, warn=True)\n",
      "/Users/bada/anaconda3/lib/python3.11/site-packages/sklearn/utils/validation.py:1310: DataConversionWarning: A column-vector y was passed when a 1d array was expected. Please change the shape of y to (n_samples, ), for example using ravel().\n",
      "  y = column_or_1d(y, warn=True)\n"
     ]
    },
    {
     "name": "stdout",
     "output_type": "stream",
     "text": [
      "[CV 5/5] END .C=0.1, gamma=0.001, kernel=linear;, score=0.958 total time=   0.0s\n",
      "[CV 1/5] END C=0.1, gamma=0.0001, kernel=linear;, score=1.000 total time=   0.0s\n",
      "[CV 2/5] END C=0.1, gamma=0.0001, kernel=linear;, score=1.000 total time=   0.0s\n",
      "[CV 3/5] END C=0.1, gamma=0.0001, kernel=linear;, score=1.000 total time=   0.0s\n",
      "[CV 4/5] END C=0.1, gamma=0.0001, kernel=linear;, score=0.917 total time=   0.0s\n"
     ]
    },
    {
     "name": "stderr",
     "output_type": "stream",
     "text": [
      "/Users/bada/anaconda3/lib/python3.11/site-packages/sklearn/utils/validation.py:1310: DataConversionWarning: A column-vector y was passed when a 1d array was expected. Please change the shape of y to (n_samples, ), for example using ravel().\n",
      "  y = column_or_1d(y, warn=True)\n",
      "/Users/bada/anaconda3/lib/python3.11/site-packages/sklearn/utils/validation.py:1310: DataConversionWarning: A column-vector y was passed when a 1d array was expected. Please change the shape of y to (n_samples, ), for example using ravel().\n",
      "  y = column_or_1d(y, warn=True)\n",
      "/Users/bada/anaconda3/lib/python3.11/site-packages/sklearn/utils/validation.py:1310: DataConversionWarning: A column-vector y was passed when a 1d array was expected. Please change the shape of y to (n_samples, ), for example using ravel().\n",
      "  y = column_or_1d(y, warn=True)\n",
      "/Users/bada/anaconda3/lib/python3.11/site-packages/sklearn/utils/validation.py:1310: DataConversionWarning: A column-vector y was passed when a 1d array was expected. Please change the shape of y to (n_samples, ), for example using ravel().\n",
      "  y = column_or_1d(y, warn=True)\n",
      "/Users/bada/anaconda3/lib/python3.11/site-packages/sklearn/utils/validation.py:1310: DataConversionWarning: A column-vector y was passed when a 1d array was expected. Please change the shape of y to (n_samples, ), for example using ravel().\n",
      "  y = column_or_1d(y, warn=True)\n"
     ]
    },
    {
     "name": "stdout",
     "output_type": "stream",
     "text": [
      "[CV 5/5] END C=0.1, gamma=0.0001, kernel=linear;, score=0.958 total time=   0.0s\n",
      "[CV 1/5] END .......C=1, gamma=1, kernel=linear;, score=1.000 total time=   0.0s\n",
      "[CV 2/5] END .......C=1, gamma=1, kernel=linear;, score=1.000 total time=   0.0s\n",
      "[CV 3/5] END .......C=1, gamma=1, kernel=linear;, score=1.000 total time=   0.0s\n",
      "[CV 4/5] END .......C=1, gamma=1, kernel=linear;, score=0.917 total time=   0.0s\n"
     ]
    },
    {
     "name": "stderr",
     "output_type": "stream",
     "text": [
      "/Users/bada/anaconda3/lib/python3.11/site-packages/sklearn/utils/validation.py:1310: DataConversionWarning: A column-vector y was passed when a 1d array was expected. Please change the shape of y to (n_samples, ), for example using ravel().\n",
      "  y = column_or_1d(y, warn=True)\n",
      "/Users/bada/anaconda3/lib/python3.11/site-packages/sklearn/utils/validation.py:1310: DataConversionWarning: A column-vector y was passed when a 1d array was expected. Please change the shape of y to (n_samples, ), for example using ravel().\n",
      "  y = column_or_1d(y, warn=True)\n",
      "/Users/bada/anaconda3/lib/python3.11/site-packages/sklearn/utils/validation.py:1310: DataConversionWarning: A column-vector y was passed when a 1d array was expected. Please change the shape of y to (n_samples, ), for example using ravel().\n",
      "  y = column_or_1d(y, warn=True)\n",
      "/Users/bada/anaconda3/lib/python3.11/site-packages/sklearn/utils/validation.py:1310: DataConversionWarning: A column-vector y was passed when a 1d array was expected. Please change the shape of y to (n_samples, ), for example using ravel().\n",
      "  y = column_or_1d(y, warn=True)\n",
      "/Users/bada/anaconda3/lib/python3.11/site-packages/sklearn/utils/validation.py:1310: DataConversionWarning: A column-vector y was passed when a 1d array was expected. Please change the shape of y to (n_samples, ), for example using ravel().\n",
      "  y = column_or_1d(y, warn=True)\n"
     ]
    },
    {
     "name": "stdout",
     "output_type": "stream",
     "text": [
      "[CV 5/5] END .......C=1, gamma=1, kernel=linear;, score=0.958 total time=   0.0s\n",
      "[CV 1/5] END .....C=1, gamma=0.1, kernel=linear;, score=1.000 total time=   0.0s\n",
      "[CV 2/5] END .....C=1, gamma=0.1, kernel=linear;, score=1.000 total time=   0.0s\n",
      "[CV 3/5] END .....C=1, gamma=0.1, kernel=linear;, score=1.000 total time=   0.0s\n",
      "[CV 4/5] END .....C=1, gamma=0.1, kernel=linear;, score=0.917 total time=   0.0s\n"
     ]
    },
    {
     "name": "stderr",
     "output_type": "stream",
     "text": [
      "/Users/bada/anaconda3/lib/python3.11/site-packages/sklearn/utils/validation.py:1310: DataConversionWarning: A column-vector y was passed when a 1d array was expected. Please change the shape of y to (n_samples, ), for example using ravel().\n",
      "  y = column_or_1d(y, warn=True)\n",
      "/Users/bada/anaconda3/lib/python3.11/site-packages/sklearn/utils/validation.py:1310: DataConversionWarning: A column-vector y was passed when a 1d array was expected. Please change the shape of y to (n_samples, ), for example using ravel().\n",
      "  y = column_or_1d(y, warn=True)\n",
      "/Users/bada/anaconda3/lib/python3.11/site-packages/sklearn/utils/validation.py:1310: DataConversionWarning: A column-vector y was passed when a 1d array was expected. Please change the shape of y to (n_samples, ), for example using ravel().\n",
      "  y = column_or_1d(y, warn=True)\n",
      "/Users/bada/anaconda3/lib/python3.11/site-packages/sklearn/utils/validation.py:1310: DataConversionWarning: A column-vector y was passed when a 1d array was expected. Please change the shape of y to (n_samples, ), for example using ravel().\n",
      "  y = column_or_1d(y, warn=True)\n",
      "/Users/bada/anaconda3/lib/python3.11/site-packages/sklearn/utils/validation.py:1310: DataConversionWarning: A column-vector y was passed when a 1d array was expected. Please change the shape of y to (n_samples, ), for example using ravel().\n",
      "  y = column_or_1d(y, warn=True)\n"
     ]
    },
    {
     "name": "stdout",
     "output_type": "stream",
     "text": [
      "[CV 5/5] END .....C=1, gamma=0.1, kernel=linear;, score=0.958 total time=   0.0s\n",
      "[CV 1/5] END ....C=1, gamma=0.01, kernel=linear;, score=1.000 total time=   0.0s\n",
      "[CV 2/5] END ....C=1, gamma=0.01, kernel=linear;, score=1.000 total time=   0.0s\n",
      "[CV 3/5] END ....C=1, gamma=0.01, kernel=linear;, score=1.000 total time=   0.0s\n",
      "[CV 4/5] END ....C=1, gamma=0.01, kernel=linear;, score=0.917 total time=   0.0s\n"
     ]
    },
    {
     "name": "stderr",
     "output_type": "stream",
     "text": [
      "/Users/bada/anaconda3/lib/python3.11/site-packages/sklearn/utils/validation.py:1310: DataConversionWarning: A column-vector y was passed when a 1d array was expected. Please change the shape of y to (n_samples, ), for example using ravel().\n",
      "  y = column_or_1d(y, warn=True)\n",
      "/Users/bada/anaconda3/lib/python3.11/site-packages/sklearn/utils/validation.py:1310: DataConversionWarning: A column-vector y was passed when a 1d array was expected. Please change the shape of y to (n_samples, ), for example using ravel().\n",
      "  y = column_or_1d(y, warn=True)\n",
      "/Users/bada/anaconda3/lib/python3.11/site-packages/sklearn/utils/validation.py:1310: DataConversionWarning: A column-vector y was passed when a 1d array was expected. Please change the shape of y to (n_samples, ), for example using ravel().\n",
      "  y = column_or_1d(y, warn=True)\n",
      "/Users/bada/anaconda3/lib/python3.11/site-packages/sklearn/utils/validation.py:1310: DataConversionWarning: A column-vector y was passed when a 1d array was expected. Please change the shape of y to (n_samples, ), for example using ravel().\n",
      "  y = column_or_1d(y, warn=True)\n",
      "/Users/bada/anaconda3/lib/python3.11/site-packages/sklearn/utils/validation.py:1310: DataConversionWarning: A column-vector y was passed when a 1d array was expected. Please change the shape of y to (n_samples, ), for example using ravel().\n",
      "  y = column_or_1d(y, warn=True)\n"
     ]
    },
    {
     "name": "stdout",
     "output_type": "stream",
     "text": [
      "[CV 5/5] END ....C=1, gamma=0.01, kernel=linear;, score=0.958 total time=   0.0s\n",
      "[CV 1/5] END ...C=1, gamma=0.001, kernel=linear;, score=1.000 total time=   0.0s\n",
      "[CV 2/5] END ...C=1, gamma=0.001, kernel=linear;, score=1.000 total time=   0.0s\n",
      "[CV 3/5] END ...C=1, gamma=0.001, kernel=linear;, score=1.000 total time=   0.0s\n",
      "[CV 4/5] END ...C=1, gamma=0.001, kernel=linear;, score=0.917 total time=   0.0s\n"
     ]
    },
    {
     "name": "stderr",
     "output_type": "stream",
     "text": [
      "/Users/bada/anaconda3/lib/python3.11/site-packages/sklearn/utils/validation.py:1310: DataConversionWarning: A column-vector y was passed when a 1d array was expected. Please change the shape of y to (n_samples, ), for example using ravel().\n",
      "  y = column_or_1d(y, warn=True)\n",
      "/Users/bada/anaconda3/lib/python3.11/site-packages/sklearn/utils/validation.py:1310: DataConversionWarning: A column-vector y was passed when a 1d array was expected. Please change the shape of y to (n_samples, ), for example using ravel().\n",
      "  y = column_or_1d(y, warn=True)\n",
      "/Users/bada/anaconda3/lib/python3.11/site-packages/sklearn/utils/validation.py:1310: DataConversionWarning: A column-vector y was passed when a 1d array was expected. Please change the shape of y to (n_samples, ), for example using ravel().\n",
      "  y = column_or_1d(y, warn=True)\n",
      "/Users/bada/anaconda3/lib/python3.11/site-packages/sklearn/utils/validation.py:1310: DataConversionWarning: A column-vector y was passed when a 1d array was expected. Please change the shape of y to (n_samples, ), for example using ravel().\n",
      "  y = column_or_1d(y, warn=True)\n",
      "/Users/bada/anaconda3/lib/python3.11/site-packages/sklearn/utils/validation.py:1310: DataConversionWarning: A column-vector y was passed when a 1d array was expected. Please change the shape of y to (n_samples, ), for example using ravel().\n",
      "  y = column_or_1d(y, warn=True)\n"
     ]
    },
    {
     "name": "stdout",
     "output_type": "stream",
     "text": [
      "[CV 5/5] END ...C=1, gamma=0.001, kernel=linear;, score=0.958 total time=   0.0s\n",
      "[CV 1/5] END ..C=1, gamma=0.0001, kernel=linear;, score=1.000 total time=   0.0s\n",
      "[CV 2/5] END ..C=1, gamma=0.0001, kernel=linear;, score=1.000 total time=   0.0s\n",
      "[CV 3/5] END ..C=1, gamma=0.0001, kernel=linear;, score=1.000 total time=   0.0s\n",
      "[CV 4/5] END ..C=1, gamma=0.0001, kernel=linear;, score=0.917 total time=   0.0s\n"
     ]
    },
    {
     "name": "stderr",
     "output_type": "stream",
     "text": [
      "/Users/bada/anaconda3/lib/python3.11/site-packages/sklearn/utils/validation.py:1310: DataConversionWarning: A column-vector y was passed when a 1d array was expected. Please change the shape of y to (n_samples, ), for example using ravel().\n",
      "  y = column_or_1d(y, warn=True)\n",
      "/Users/bada/anaconda3/lib/python3.11/site-packages/sklearn/utils/validation.py:1310: DataConversionWarning: A column-vector y was passed when a 1d array was expected. Please change the shape of y to (n_samples, ), for example using ravel().\n",
      "  y = column_or_1d(y, warn=True)\n",
      "/Users/bada/anaconda3/lib/python3.11/site-packages/sklearn/utils/validation.py:1310: DataConversionWarning: A column-vector y was passed when a 1d array was expected. Please change the shape of y to (n_samples, ), for example using ravel().\n",
      "  y = column_or_1d(y, warn=True)\n",
      "/Users/bada/anaconda3/lib/python3.11/site-packages/sklearn/utils/validation.py:1310: DataConversionWarning: A column-vector y was passed when a 1d array was expected. Please change the shape of y to (n_samples, ), for example using ravel().\n",
      "  y = column_or_1d(y, warn=True)\n",
      "/Users/bada/anaconda3/lib/python3.11/site-packages/sklearn/utils/validation.py:1310: DataConversionWarning: A column-vector y was passed when a 1d array was expected. Please change the shape of y to (n_samples, ), for example using ravel().\n",
      "  y = column_or_1d(y, warn=True)\n"
     ]
    },
    {
     "name": "stdout",
     "output_type": "stream",
     "text": [
      "[CV 5/5] END ..C=1, gamma=0.0001, kernel=linear;, score=0.958 total time=   0.0s\n",
      "[CV 1/5] END ......C=10, gamma=1, kernel=linear;, score=1.000 total time=   0.0s\n",
      "[CV 2/5] END ......C=10, gamma=1, kernel=linear;, score=1.000 total time=   0.0s\n",
      "[CV 3/5] END ......C=10, gamma=1, kernel=linear;, score=1.000 total time=   0.0s\n",
      "[CV 4/5] END ......C=10, gamma=1, kernel=linear;, score=0.917 total time=   0.0s\n"
     ]
    },
    {
     "name": "stderr",
     "output_type": "stream",
     "text": [
      "/Users/bada/anaconda3/lib/python3.11/site-packages/sklearn/utils/validation.py:1310: DataConversionWarning: A column-vector y was passed when a 1d array was expected. Please change the shape of y to (n_samples, ), for example using ravel().\n",
      "  y = column_or_1d(y, warn=True)\n",
      "/Users/bada/anaconda3/lib/python3.11/site-packages/sklearn/utils/validation.py:1310: DataConversionWarning: A column-vector y was passed when a 1d array was expected. Please change the shape of y to (n_samples, ), for example using ravel().\n",
      "  y = column_or_1d(y, warn=True)\n",
      "/Users/bada/anaconda3/lib/python3.11/site-packages/sklearn/utils/validation.py:1310: DataConversionWarning: A column-vector y was passed when a 1d array was expected. Please change the shape of y to (n_samples, ), for example using ravel().\n",
      "  y = column_or_1d(y, warn=True)\n",
      "/Users/bada/anaconda3/lib/python3.11/site-packages/sklearn/utils/validation.py:1310: DataConversionWarning: A column-vector y was passed when a 1d array was expected. Please change the shape of y to (n_samples, ), for example using ravel().\n",
      "  y = column_or_1d(y, warn=True)\n",
      "/Users/bada/anaconda3/lib/python3.11/site-packages/sklearn/utils/validation.py:1310: DataConversionWarning: A column-vector y was passed when a 1d array was expected. Please change the shape of y to (n_samples, ), for example using ravel().\n",
      "  y = column_or_1d(y, warn=True)\n"
     ]
    },
    {
     "name": "stdout",
     "output_type": "stream",
     "text": [
      "[CV 5/5] END ......C=10, gamma=1, kernel=linear;, score=0.958 total time=   0.0s\n",
      "[CV 1/5] END ....C=10, gamma=0.1, kernel=linear;, score=1.000 total time=   0.0s\n",
      "[CV 2/5] END ....C=10, gamma=0.1, kernel=linear;, score=1.000 total time=   0.0s\n",
      "[CV 3/5] END ....C=10, gamma=0.1, kernel=linear;, score=1.000 total time=   0.0s\n",
      "[CV 4/5] END ....C=10, gamma=0.1, kernel=linear;, score=0.917 total time=   0.0s\n"
     ]
    },
    {
     "name": "stderr",
     "output_type": "stream",
     "text": [
      "/Users/bada/anaconda3/lib/python3.11/site-packages/sklearn/utils/validation.py:1310: DataConversionWarning: A column-vector y was passed when a 1d array was expected. Please change the shape of y to (n_samples, ), for example using ravel().\n",
      "  y = column_or_1d(y, warn=True)\n",
      "/Users/bada/anaconda3/lib/python3.11/site-packages/sklearn/utils/validation.py:1310: DataConversionWarning: A column-vector y was passed when a 1d array was expected. Please change the shape of y to (n_samples, ), for example using ravel().\n",
      "  y = column_or_1d(y, warn=True)\n",
      "/Users/bada/anaconda3/lib/python3.11/site-packages/sklearn/utils/validation.py:1310: DataConversionWarning: A column-vector y was passed when a 1d array was expected. Please change the shape of y to (n_samples, ), for example using ravel().\n",
      "  y = column_or_1d(y, warn=True)\n",
      "/Users/bada/anaconda3/lib/python3.11/site-packages/sklearn/utils/validation.py:1310: DataConversionWarning: A column-vector y was passed when a 1d array was expected. Please change the shape of y to (n_samples, ), for example using ravel().\n",
      "  y = column_or_1d(y, warn=True)\n",
      "/Users/bada/anaconda3/lib/python3.11/site-packages/sklearn/utils/validation.py:1310: DataConversionWarning: A column-vector y was passed when a 1d array was expected. Please change the shape of y to (n_samples, ), for example using ravel().\n",
      "  y = column_or_1d(y, warn=True)\n"
     ]
    },
    {
     "name": "stdout",
     "output_type": "stream",
     "text": [
      "[CV 5/5] END ....C=10, gamma=0.1, kernel=linear;, score=0.958 total time=   0.0s\n",
      "[CV 1/5] END ...C=10, gamma=0.01, kernel=linear;, score=1.000 total time=   0.0s\n",
      "[CV 2/5] END ...C=10, gamma=0.01, kernel=linear;, score=1.000 total time=   0.0s\n",
      "[CV 3/5] END ...C=10, gamma=0.01, kernel=linear;, score=1.000 total time=   0.0s\n",
      "[CV 4/5] END ...C=10, gamma=0.01, kernel=linear;, score=0.917 total time=   0.0s\n"
     ]
    },
    {
     "name": "stderr",
     "output_type": "stream",
     "text": [
      "/Users/bada/anaconda3/lib/python3.11/site-packages/sklearn/utils/validation.py:1310: DataConversionWarning: A column-vector y was passed when a 1d array was expected. Please change the shape of y to (n_samples, ), for example using ravel().\n",
      "  y = column_or_1d(y, warn=True)\n",
      "/Users/bada/anaconda3/lib/python3.11/site-packages/sklearn/utils/validation.py:1310: DataConversionWarning: A column-vector y was passed when a 1d array was expected. Please change the shape of y to (n_samples, ), for example using ravel().\n",
      "  y = column_or_1d(y, warn=True)\n",
      "/Users/bada/anaconda3/lib/python3.11/site-packages/sklearn/utils/validation.py:1310: DataConversionWarning: A column-vector y was passed when a 1d array was expected. Please change the shape of y to (n_samples, ), for example using ravel().\n",
      "  y = column_or_1d(y, warn=True)\n",
      "/Users/bada/anaconda3/lib/python3.11/site-packages/sklearn/utils/validation.py:1310: DataConversionWarning: A column-vector y was passed when a 1d array was expected. Please change the shape of y to (n_samples, ), for example using ravel().\n",
      "  y = column_or_1d(y, warn=True)\n",
      "/Users/bada/anaconda3/lib/python3.11/site-packages/sklearn/utils/validation.py:1310: DataConversionWarning: A column-vector y was passed when a 1d array was expected. Please change the shape of y to (n_samples, ), for example using ravel().\n",
      "  y = column_or_1d(y, warn=True)\n"
     ]
    },
    {
     "name": "stdout",
     "output_type": "stream",
     "text": [
      "[CV 5/5] END ...C=10, gamma=0.01, kernel=linear;, score=0.958 total time=   0.0s\n",
      "[CV 1/5] END ..C=10, gamma=0.001, kernel=linear;, score=1.000 total time=   0.0s\n",
      "[CV 2/5] END ..C=10, gamma=0.001, kernel=linear;, score=1.000 total time=   0.0s\n",
      "[CV 3/5] END ..C=10, gamma=0.001, kernel=linear;, score=1.000 total time=   0.0s\n",
      "[CV 4/5] END ..C=10, gamma=0.001, kernel=linear;, score=0.917 total time=   0.0s\n"
     ]
    },
    {
     "name": "stderr",
     "output_type": "stream",
     "text": [
      "/Users/bada/anaconda3/lib/python3.11/site-packages/sklearn/utils/validation.py:1310: DataConversionWarning: A column-vector y was passed when a 1d array was expected. Please change the shape of y to (n_samples, ), for example using ravel().\n",
      "  y = column_or_1d(y, warn=True)\n",
      "/Users/bada/anaconda3/lib/python3.11/site-packages/sklearn/utils/validation.py:1310: DataConversionWarning: A column-vector y was passed when a 1d array was expected. Please change the shape of y to (n_samples, ), for example using ravel().\n",
      "  y = column_or_1d(y, warn=True)\n",
      "/Users/bada/anaconda3/lib/python3.11/site-packages/sklearn/utils/validation.py:1310: DataConversionWarning: A column-vector y was passed when a 1d array was expected. Please change the shape of y to (n_samples, ), for example using ravel().\n",
      "  y = column_or_1d(y, warn=True)\n",
      "/Users/bada/anaconda3/lib/python3.11/site-packages/sklearn/utils/validation.py:1310: DataConversionWarning: A column-vector y was passed when a 1d array was expected. Please change the shape of y to (n_samples, ), for example using ravel().\n",
      "  y = column_or_1d(y, warn=True)\n",
      "/Users/bada/anaconda3/lib/python3.11/site-packages/sklearn/utils/validation.py:1310: DataConversionWarning: A column-vector y was passed when a 1d array was expected. Please change the shape of y to (n_samples, ), for example using ravel().\n",
      "  y = column_or_1d(y, warn=True)\n"
     ]
    },
    {
     "name": "stdout",
     "output_type": "stream",
     "text": [
      "[CV 5/5] END ..C=10, gamma=0.001, kernel=linear;, score=0.958 total time=   0.0s\n",
      "[CV 1/5] END .C=10, gamma=0.0001, kernel=linear;, score=1.000 total time=   0.0s\n",
      "[CV 2/5] END .C=10, gamma=0.0001, kernel=linear;, score=1.000 total time=   0.0s\n",
      "[CV 3/5] END .C=10, gamma=0.0001, kernel=linear;, score=1.000 total time=   0.0s\n",
      "[CV 4/5] END .C=10, gamma=0.0001, kernel=linear;, score=0.917 total time=   0.0s\n"
     ]
    },
    {
     "name": "stderr",
     "output_type": "stream",
     "text": [
      "/Users/bada/anaconda3/lib/python3.11/site-packages/sklearn/utils/validation.py:1310: DataConversionWarning: A column-vector y was passed when a 1d array was expected. Please change the shape of y to (n_samples, ), for example using ravel().\n",
      "  y = column_or_1d(y, warn=True)\n",
      "/Users/bada/anaconda3/lib/python3.11/site-packages/sklearn/utils/validation.py:1310: DataConversionWarning: A column-vector y was passed when a 1d array was expected. Please change the shape of y to (n_samples, ), for example using ravel().\n",
      "  y = column_or_1d(y, warn=True)\n",
      "/Users/bada/anaconda3/lib/python3.11/site-packages/sklearn/utils/validation.py:1310: DataConversionWarning: A column-vector y was passed when a 1d array was expected. Please change the shape of y to (n_samples, ), for example using ravel().\n",
      "  y = column_or_1d(y, warn=True)\n",
      "/Users/bada/anaconda3/lib/python3.11/site-packages/sklearn/utils/validation.py:1310: DataConversionWarning: A column-vector y was passed when a 1d array was expected. Please change the shape of y to (n_samples, ), for example using ravel().\n",
      "  y = column_or_1d(y, warn=True)\n",
      "/Users/bada/anaconda3/lib/python3.11/site-packages/sklearn/utils/validation.py:1310: DataConversionWarning: A column-vector y was passed when a 1d array was expected. Please change the shape of y to (n_samples, ), for example using ravel().\n",
      "  y = column_or_1d(y, warn=True)\n"
     ]
    },
    {
     "name": "stdout",
     "output_type": "stream",
     "text": [
      "[CV 5/5] END .C=10, gamma=0.0001, kernel=linear;, score=0.958 total time=   0.0s\n",
      "[CV 1/5] END .....C=100, gamma=1, kernel=linear;, score=1.000 total time=   0.0s\n",
      "[CV 2/5] END .....C=100, gamma=1, kernel=linear;, score=1.000 total time=   0.0s\n",
      "[CV 3/5] END .....C=100, gamma=1, kernel=linear;, score=1.000 total time=   0.0s\n",
      "[CV 4/5] END .....C=100, gamma=1, kernel=linear;, score=0.917 total time=   0.0s\n"
     ]
    },
    {
     "name": "stderr",
     "output_type": "stream",
     "text": [
      "/Users/bada/anaconda3/lib/python3.11/site-packages/sklearn/utils/validation.py:1310: DataConversionWarning: A column-vector y was passed when a 1d array was expected. Please change the shape of y to (n_samples, ), for example using ravel().\n",
      "  y = column_or_1d(y, warn=True)\n",
      "/Users/bada/anaconda3/lib/python3.11/site-packages/sklearn/utils/validation.py:1310: DataConversionWarning: A column-vector y was passed when a 1d array was expected. Please change the shape of y to (n_samples, ), for example using ravel().\n",
      "  y = column_or_1d(y, warn=True)\n",
      "/Users/bada/anaconda3/lib/python3.11/site-packages/sklearn/utils/validation.py:1310: DataConversionWarning: A column-vector y was passed when a 1d array was expected. Please change the shape of y to (n_samples, ), for example using ravel().\n",
      "  y = column_or_1d(y, warn=True)\n",
      "/Users/bada/anaconda3/lib/python3.11/site-packages/sklearn/utils/validation.py:1310: DataConversionWarning: A column-vector y was passed when a 1d array was expected. Please change the shape of y to (n_samples, ), for example using ravel().\n",
      "  y = column_or_1d(y, warn=True)\n",
      "/Users/bada/anaconda3/lib/python3.11/site-packages/sklearn/utils/validation.py:1310: DataConversionWarning: A column-vector y was passed when a 1d array was expected. Please change the shape of y to (n_samples, ), for example using ravel().\n",
      "  y = column_or_1d(y, warn=True)\n"
     ]
    },
    {
     "name": "stdout",
     "output_type": "stream",
     "text": [
      "[CV 5/5] END .....C=100, gamma=1, kernel=linear;, score=0.958 total time=   0.0s\n",
      "[CV 1/5] END ...C=100, gamma=0.1, kernel=linear;, score=1.000 total time=   0.0s\n",
      "[CV 2/5] END ...C=100, gamma=0.1, kernel=linear;, score=1.000 total time=   0.0s\n",
      "[CV 3/5] END ...C=100, gamma=0.1, kernel=linear;, score=1.000 total time=   0.0s\n",
      "[CV 4/5] END ...C=100, gamma=0.1, kernel=linear;, score=0.917 total time=   0.0s\n"
     ]
    },
    {
     "name": "stderr",
     "output_type": "stream",
     "text": [
      "/Users/bada/anaconda3/lib/python3.11/site-packages/sklearn/utils/validation.py:1310: DataConversionWarning: A column-vector y was passed when a 1d array was expected. Please change the shape of y to (n_samples, ), for example using ravel().\n",
      "  y = column_or_1d(y, warn=True)\n",
      "/Users/bada/anaconda3/lib/python3.11/site-packages/sklearn/utils/validation.py:1310: DataConversionWarning: A column-vector y was passed when a 1d array was expected. Please change the shape of y to (n_samples, ), for example using ravel().\n",
      "  y = column_or_1d(y, warn=True)\n",
      "/Users/bada/anaconda3/lib/python3.11/site-packages/sklearn/utils/validation.py:1310: DataConversionWarning: A column-vector y was passed when a 1d array was expected. Please change the shape of y to (n_samples, ), for example using ravel().\n",
      "  y = column_or_1d(y, warn=True)\n",
      "/Users/bada/anaconda3/lib/python3.11/site-packages/sklearn/utils/validation.py:1310: DataConversionWarning: A column-vector y was passed when a 1d array was expected. Please change the shape of y to (n_samples, ), for example using ravel().\n",
      "  y = column_or_1d(y, warn=True)\n",
      "/Users/bada/anaconda3/lib/python3.11/site-packages/sklearn/utils/validation.py:1310: DataConversionWarning: A column-vector y was passed when a 1d array was expected. Please change the shape of y to (n_samples, ), for example using ravel().\n",
      "  y = column_or_1d(y, warn=True)\n"
     ]
    },
    {
     "name": "stdout",
     "output_type": "stream",
     "text": [
      "[CV 5/5] END ...C=100, gamma=0.1, kernel=linear;, score=0.958 total time=   0.0s\n",
      "[CV 1/5] END ..C=100, gamma=0.01, kernel=linear;, score=1.000 total time=   0.0s\n",
      "[CV 2/5] END ..C=100, gamma=0.01, kernel=linear;, score=1.000 total time=   0.0s\n",
      "[CV 3/5] END ..C=100, gamma=0.01, kernel=linear;, score=1.000 total time=   0.0s\n",
      "[CV 4/5] END ..C=100, gamma=0.01, kernel=linear;, score=0.917 total time=   0.0s\n"
     ]
    },
    {
     "name": "stderr",
     "output_type": "stream",
     "text": [
      "/Users/bada/anaconda3/lib/python3.11/site-packages/sklearn/utils/validation.py:1310: DataConversionWarning: A column-vector y was passed when a 1d array was expected. Please change the shape of y to (n_samples, ), for example using ravel().\n",
      "  y = column_or_1d(y, warn=True)\n",
      "/Users/bada/anaconda3/lib/python3.11/site-packages/sklearn/utils/validation.py:1310: DataConversionWarning: A column-vector y was passed when a 1d array was expected. Please change the shape of y to (n_samples, ), for example using ravel().\n",
      "  y = column_or_1d(y, warn=True)\n",
      "/Users/bada/anaconda3/lib/python3.11/site-packages/sklearn/utils/validation.py:1310: DataConversionWarning: A column-vector y was passed when a 1d array was expected. Please change the shape of y to (n_samples, ), for example using ravel().\n",
      "  y = column_or_1d(y, warn=True)\n",
      "/Users/bada/anaconda3/lib/python3.11/site-packages/sklearn/utils/validation.py:1310: DataConversionWarning: A column-vector y was passed when a 1d array was expected. Please change the shape of y to (n_samples, ), for example using ravel().\n",
      "  y = column_or_1d(y, warn=True)\n"
     ]
    },
    {
     "name": "stdout",
     "output_type": "stream",
     "text": [
      "[CV 5/5] END ..C=100, gamma=0.01, kernel=linear;, score=0.958 total time=   0.0s\n",
      "[CV 1/5] END .C=100, gamma=0.001, kernel=linear;, score=1.000 total time=   0.0s\n",
      "[CV 2/5] END .C=100, gamma=0.001, kernel=linear;, score=1.000 total time=   0.1s\n",
      "[CV 3/5] END .C=100, gamma=0.001, kernel=linear;, score=1.000 total time=   0.1s\n"
     ]
    },
    {
     "name": "stderr",
     "output_type": "stream",
     "text": [
      "/Users/bada/anaconda3/lib/python3.11/site-packages/sklearn/utils/validation.py:1310: DataConversionWarning: A column-vector y was passed when a 1d array was expected. Please change the shape of y to (n_samples, ), for example using ravel().\n",
      "  y = column_or_1d(y, warn=True)\n",
      "/Users/bada/anaconda3/lib/python3.11/site-packages/sklearn/utils/validation.py:1310: DataConversionWarning: A column-vector y was passed when a 1d array was expected. Please change the shape of y to (n_samples, ), for example using ravel().\n",
      "  y = column_or_1d(y, warn=True)\n",
      "/Users/bada/anaconda3/lib/python3.11/site-packages/sklearn/utils/validation.py:1310: DataConversionWarning: A column-vector y was passed when a 1d array was expected. Please change the shape of y to (n_samples, ), for example using ravel().\n",
      "  y = column_or_1d(y, warn=True)\n",
      "/Users/bada/anaconda3/lib/python3.11/site-packages/sklearn/utils/validation.py:1310: DataConversionWarning: A column-vector y was passed when a 1d array was expected. Please change the shape of y to (n_samples, ), for example using ravel().\n",
      "  y = column_or_1d(y, warn=True)\n",
      "/Users/bada/anaconda3/lib/python3.11/site-packages/sklearn/utils/validation.py:1310: DataConversionWarning: A column-vector y was passed when a 1d array was expected. Please change the shape of y to (n_samples, ), for example using ravel().\n",
      "  y = column_or_1d(y, warn=True)\n"
     ]
    },
    {
     "name": "stdout",
     "output_type": "stream",
     "text": [
      "[CV 4/5] END .C=100, gamma=0.001, kernel=linear;, score=0.917 total time=   0.0s\n",
      "[CV 5/5] END .C=100, gamma=0.001, kernel=linear;, score=0.958 total time=   0.0s\n",
      "[CV 1/5] END C=100, gamma=0.0001, kernel=linear;, score=1.000 total time=   0.0s\n",
      "[CV 2/5] END C=100, gamma=0.0001, kernel=linear;, score=1.000 total time=   0.0s\n",
      "[CV 3/5] END C=100, gamma=0.0001, kernel=linear;, score=1.000 total time=   0.0s\n"
     ]
    },
    {
     "name": "stderr",
     "output_type": "stream",
     "text": [
      "/Users/bada/anaconda3/lib/python3.11/site-packages/sklearn/utils/validation.py:1310: DataConversionWarning: A column-vector y was passed when a 1d array was expected. Please change the shape of y to (n_samples, ), for example using ravel().\n",
      "  y = column_or_1d(y, warn=True)\n",
      "/Users/bada/anaconda3/lib/python3.11/site-packages/sklearn/utils/validation.py:1310: DataConversionWarning: A column-vector y was passed when a 1d array was expected. Please change the shape of y to (n_samples, ), for example using ravel().\n",
      "  y = column_or_1d(y, warn=True)\n",
      "/Users/bada/anaconda3/lib/python3.11/site-packages/sklearn/utils/validation.py:1310: DataConversionWarning: A column-vector y was passed when a 1d array was expected. Please change the shape of y to (n_samples, ), for example using ravel().\n",
      "  y = column_or_1d(y, warn=True)\n",
      "/Users/bada/anaconda3/lib/python3.11/site-packages/sklearn/utils/validation.py:1310: DataConversionWarning: A column-vector y was passed when a 1d array was expected. Please change the shape of y to (n_samples, ), for example using ravel().\n",
      "  y = column_or_1d(y, warn=True)\n",
      "/Users/bada/anaconda3/lib/python3.11/site-packages/sklearn/utils/validation.py:1310: DataConversionWarning: A column-vector y was passed when a 1d array was expected. Please change the shape of y to (n_samples, ), for example using ravel().\n",
      "  y = column_or_1d(y, warn=True)\n"
     ]
    },
    {
     "name": "stdout",
     "output_type": "stream",
     "text": [
      "[CV 4/5] END C=100, gamma=0.0001, kernel=linear;, score=0.917 total time=   0.0s\n",
      "[CV 5/5] END C=100, gamma=0.0001, kernel=linear;, score=0.958 total time=   0.0s\n",
      "[CV 1/5] END ....C=1000, gamma=1, kernel=linear;, score=1.000 total time=   0.0s\n",
      "[CV 2/5] END ....C=1000, gamma=1, kernel=linear;, score=1.000 total time=   0.0s\n",
      "[CV 3/5] END ....C=1000, gamma=1, kernel=linear;, score=1.000 total time=   0.0s\n"
     ]
    },
    {
     "name": "stderr",
     "output_type": "stream",
     "text": [
      "/Users/bada/anaconda3/lib/python3.11/site-packages/sklearn/utils/validation.py:1310: DataConversionWarning: A column-vector y was passed when a 1d array was expected. Please change the shape of y to (n_samples, ), for example using ravel().\n",
      "  y = column_or_1d(y, warn=True)\n",
      "/Users/bada/anaconda3/lib/python3.11/site-packages/sklearn/utils/validation.py:1310: DataConversionWarning: A column-vector y was passed when a 1d array was expected. Please change the shape of y to (n_samples, ), for example using ravel().\n",
      "  y = column_or_1d(y, warn=True)\n",
      "/Users/bada/anaconda3/lib/python3.11/site-packages/sklearn/utils/validation.py:1310: DataConversionWarning: A column-vector y was passed when a 1d array was expected. Please change the shape of y to (n_samples, ), for example using ravel().\n",
      "  y = column_or_1d(y, warn=True)\n",
      "/Users/bada/anaconda3/lib/python3.11/site-packages/sklearn/utils/validation.py:1310: DataConversionWarning: A column-vector y was passed when a 1d array was expected. Please change the shape of y to (n_samples, ), for example using ravel().\n",
      "  y = column_or_1d(y, warn=True)\n",
      "/Users/bada/anaconda3/lib/python3.11/site-packages/sklearn/utils/validation.py:1310: DataConversionWarning: A column-vector y was passed when a 1d array was expected. Please change the shape of y to (n_samples, ), for example using ravel().\n",
      "  y = column_or_1d(y, warn=True)\n"
     ]
    },
    {
     "name": "stdout",
     "output_type": "stream",
     "text": [
      "[CV 4/5] END ....C=1000, gamma=1, kernel=linear;, score=0.917 total time=   0.0s\n",
      "[CV 5/5] END ....C=1000, gamma=1, kernel=linear;, score=0.958 total time=   0.0s\n",
      "[CV 1/5] END ..C=1000, gamma=0.1, kernel=linear;, score=1.000 total time=   0.0s\n",
      "[CV 2/5] END ..C=1000, gamma=0.1, kernel=linear;, score=1.000 total time=   0.0s\n",
      "[CV 3/5] END ..C=1000, gamma=0.1, kernel=linear;, score=1.000 total time=   0.0s\n"
     ]
    },
    {
     "name": "stderr",
     "output_type": "stream",
     "text": [
      "/Users/bada/anaconda3/lib/python3.11/site-packages/sklearn/utils/validation.py:1310: DataConversionWarning: A column-vector y was passed when a 1d array was expected. Please change the shape of y to (n_samples, ), for example using ravel().\n",
      "  y = column_or_1d(y, warn=True)\n",
      "/Users/bada/anaconda3/lib/python3.11/site-packages/sklearn/utils/validation.py:1310: DataConversionWarning: A column-vector y was passed when a 1d array was expected. Please change the shape of y to (n_samples, ), for example using ravel().\n",
      "  y = column_or_1d(y, warn=True)\n",
      "/Users/bada/anaconda3/lib/python3.11/site-packages/sklearn/utils/validation.py:1310: DataConversionWarning: A column-vector y was passed when a 1d array was expected. Please change the shape of y to (n_samples, ), for example using ravel().\n",
      "  y = column_or_1d(y, warn=True)\n",
      "/Users/bada/anaconda3/lib/python3.11/site-packages/sklearn/utils/validation.py:1310: DataConversionWarning: A column-vector y was passed when a 1d array was expected. Please change the shape of y to (n_samples, ), for example using ravel().\n",
      "  y = column_or_1d(y, warn=True)\n",
      "/Users/bada/anaconda3/lib/python3.11/site-packages/sklearn/utils/validation.py:1310: DataConversionWarning: A column-vector y was passed when a 1d array was expected. Please change the shape of y to (n_samples, ), for example using ravel().\n",
      "  y = column_or_1d(y, warn=True)\n"
     ]
    },
    {
     "name": "stdout",
     "output_type": "stream",
     "text": [
      "[CV 4/5] END ..C=1000, gamma=0.1, kernel=linear;, score=0.917 total time=   0.0s\n",
      "[CV 5/5] END ..C=1000, gamma=0.1, kernel=linear;, score=0.958 total time=   0.0s\n",
      "[CV 1/5] END .C=1000, gamma=0.01, kernel=linear;, score=1.000 total time=   0.0s\n",
      "[CV 2/5] END .C=1000, gamma=0.01, kernel=linear;, score=1.000 total time=   0.0s\n",
      "[CV 3/5] END .C=1000, gamma=0.01, kernel=linear;, score=1.000 total time=   0.0s\n"
     ]
    },
    {
     "name": "stderr",
     "output_type": "stream",
     "text": [
      "/Users/bada/anaconda3/lib/python3.11/site-packages/sklearn/utils/validation.py:1310: DataConversionWarning: A column-vector y was passed when a 1d array was expected. Please change the shape of y to (n_samples, ), for example using ravel().\n",
      "  y = column_or_1d(y, warn=True)\n",
      "/Users/bada/anaconda3/lib/python3.11/site-packages/sklearn/utils/validation.py:1310: DataConversionWarning: A column-vector y was passed when a 1d array was expected. Please change the shape of y to (n_samples, ), for example using ravel().\n",
      "  y = column_or_1d(y, warn=True)\n",
      "/Users/bada/anaconda3/lib/python3.11/site-packages/sklearn/utils/validation.py:1310: DataConversionWarning: A column-vector y was passed when a 1d array was expected. Please change the shape of y to (n_samples, ), for example using ravel().\n",
      "  y = column_or_1d(y, warn=True)\n",
      "/Users/bada/anaconda3/lib/python3.11/site-packages/sklearn/utils/validation.py:1310: DataConversionWarning: A column-vector y was passed when a 1d array was expected. Please change the shape of y to (n_samples, ), for example using ravel().\n",
      "  y = column_or_1d(y, warn=True)\n",
      "/Users/bada/anaconda3/lib/python3.11/site-packages/sklearn/utils/validation.py:1310: DataConversionWarning: A column-vector y was passed when a 1d array was expected. Please change the shape of y to (n_samples, ), for example using ravel().\n",
      "  y = column_or_1d(y, warn=True)\n"
     ]
    },
    {
     "name": "stdout",
     "output_type": "stream",
     "text": [
      "[CV 4/5] END .C=1000, gamma=0.01, kernel=linear;, score=0.917 total time=   0.0s\n",
      "[CV 5/5] END .C=1000, gamma=0.01, kernel=linear;, score=0.958 total time=   0.0s\n",
      "[CV 1/5] END C=1000, gamma=0.001, kernel=linear;, score=1.000 total time=   0.0s\n",
      "[CV 2/5] END C=1000, gamma=0.001, kernel=linear;, score=1.000 total time=   0.0s\n",
      "[CV 3/5] END C=1000, gamma=0.001, kernel=linear;, score=1.000 total time=   0.0s\n"
     ]
    },
    {
     "name": "stderr",
     "output_type": "stream",
     "text": [
      "/Users/bada/anaconda3/lib/python3.11/site-packages/sklearn/utils/validation.py:1310: DataConversionWarning: A column-vector y was passed when a 1d array was expected. Please change the shape of y to (n_samples, ), for example using ravel().\n",
      "  y = column_or_1d(y, warn=True)\n",
      "/Users/bada/anaconda3/lib/python3.11/site-packages/sklearn/utils/validation.py:1310: DataConversionWarning: A column-vector y was passed when a 1d array was expected. Please change the shape of y to (n_samples, ), for example using ravel().\n",
      "  y = column_or_1d(y, warn=True)\n",
      "/Users/bada/anaconda3/lib/python3.11/site-packages/sklearn/utils/validation.py:1310: DataConversionWarning: A column-vector y was passed when a 1d array was expected. Please change the shape of y to (n_samples, ), for example using ravel().\n",
      "  y = column_or_1d(y, warn=True)\n",
      "/Users/bada/anaconda3/lib/python3.11/site-packages/sklearn/utils/validation.py:1310: DataConversionWarning: A column-vector y was passed when a 1d array was expected. Please change the shape of y to (n_samples, ), for example using ravel().\n",
      "  y = column_or_1d(y, warn=True)\n",
      "/Users/bada/anaconda3/lib/python3.11/site-packages/sklearn/utils/validation.py:1310: DataConversionWarning: A column-vector y was passed when a 1d array was expected. Please change the shape of y to (n_samples, ), for example using ravel().\n",
      "  y = column_or_1d(y, warn=True)\n"
     ]
    },
    {
     "name": "stdout",
     "output_type": "stream",
     "text": [
      "[CV 4/5] END C=1000, gamma=0.001, kernel=linear;, score=0.917 total time=   0.0s\n",
      "[CV 5/5] END C=1000, gamma=0.001, kernel=linear;, score=0.958 total time=   0.0s\n",
      "[CV 1/5] END C=1000, gamma=0.0001, kernel=linear;, score=1.000 total time=   0.0s\n",
      "[CV 2/5] END C=1000, gamma=0.0001, kernel=linear;, score=1.000 total time=   0.0s\n",
      "[CV 3/5] END C=1000, gamma=0.0001, kernel=linear;, score=1.000 total time=   0.0s\n",
      "[CV 4/5] END C=1000, gamma=0.0001, kernel=linear;, score=0.917 total time=   0.0s\n",
      "[CV 5/5] END C=1000, gamma=0.0001, kernel=linear;, score=0.958 total time=   0.0s\n",
      "{'C': 0.1, 'gamma': 1, 'kernel': 'linear'}\n"
     ]
    },
    {
     "name": "stderr",
     "output_type": "stream",
     "text": [
      "/Users/bada/anaconda3/lib/python3.11/site-packages/sklearn/utils/validation.py:1310: DataConversionWarning: A column-vector y was passed when a 1d array was expected. Please change the shape of y to (n_samples, ), for example using ravel().\n",
      "  y = column_or_1d(y, warn=True)\n",
      "/Users/bada/anaconda3/lib/python3.11/site-packages/sklearn/utils/validation.py:1310: DataConversionWarning: A column-vector y was passed when a 1d array was expected. Please change the shape of y to (n_samples, ), for example using ravel().\n",
      "  y = column_or_1d(y, warn=True)\n",
      "/Users/bada/anaconda3/lib/python3.11/site-packages/sklearn/utils/validation.py:1310: DataConversionWarning: A column-vector y was passed when a 1d array was expected. Please change the shape of y to (n_samples, ), for example using ravel().\n",
      "  y = column_or_1d(y, warn=True)\n"
     ]
    }
   ],
   "source": [
    "from sklearn.model_selection import GridSearchCV\n",
    "\n",
    "param_grid = {\n",
    "            'C': [0.1, 1, 10, 100, 1000],  \n",
    "            'gamma': [1, 0.1, 0.01, 0.001, 0.0001], \n",
    "            'kernel': ['linear']}\n",
    "grid = GridSearchCV(clf, param_grid, refit = True, verbose = 3) \n",
    "  \n",
    "# fitting the model for grid search \n",
    "grid.fit(X_train, y_train)\n",
    "\n",
    "# print best parameter after tuning \n",
    "print(grid.best_params_) "
   ]
  },
  {
   "cell_type": "markdown",
   "id": "8e08e6c4-f71f-4a85-a14c-4fb2da82ffb9",
   "metadata": {},
   "source": [
    "<h1>What Are the Best Parameters for SVM:</h1>\n",
    "C': 0.1, 'gamma': 1, 'kernel': 'linear'"
   ]
  },
  {
   "cell_type": "code",
   "execution_count": 34,
   "id": "8e93b60c-7e70-49cc-a100-c90676ebc011",
   "metadata": {},
   "outputs": [
    {
     "name": "stdout",
     "output_type": "stream",
     "text": [
      "Test Accuracy: 0.9666666666666667\n"
     ]
    },
    {
     "name": "stderr",
     "output_type": "stream",
     "text": [
      "/Users/bada/anaconda3/lib/python3.11/site-packages/sklearn/utils/validation.py:1310: DataConversionWarning: A column-vector y was passed when a 1d array was expected. Please change the shape of y to (n_samples, ), for example using ravel().\n",
      "  y = column_or_1d(y, warn=True)\n"
     ]
    }
   ],
   "source": [
    "#testing SVM with updated parameters\n",
    "svm_updated = svm.SVC(C= 0.1, gamma = 1, kernel='linear')\n",
    "svm_updated.fit(X_train, y_train)\n",
    "y_pred_USVM = svm_updated.predict(X_test)\n",
    "print(\"Test Accuracy:\", metrics.accuracy_score(y_test, y_pred_USVM))"
   ]
  },
  {
   "cell_type": "markdown",
   "id": "3eaaf37d-99ac-4662-b2df-601cd9497ca7",
   "metadata": {},
   "source": [
    "Nothing changed! Accuracy still 96%"
   ]
  },
  {
   "cell_type": "markdown",
   "id": "f50fec97-231b-49b5-a7c2-948fc070163a",
   "metadata": {},
   "source": [
    "<h1>Outputting the Prediction!</h1>"
   ]
  },
  {
   "cell_type": "code",
   "execution_count": 38,
   "id": "7b2a66f5-f30d-46ad-93bb-7d76922d971f",
   "metadata": {},
   "outputs": [
    {
     "name": "stderr",
     "output_type": "stream",
     "text": [
      "/Users/bada/anaconda3/lib/python3.11/site-packages/sklearn/utils/validation.py:1310: DataConversionWarning: A column-vector y was passed when a 1d array was expected. Please change the shape of y to (n_samples, ), for example using ravel().\n",
      "  y = column_or_1d(y, warn=True)\n"
     ]
    }
   ],
   "source": [
    "# Loading the testing data\n",
    "TestingD1 = pd.read_csv(r\"/Users/bada/Downloads/48506850Project/TestData1.txt\", delimiter='\\s+', header = None)\n",
    "\n",
    "testscaler = StandardScaler()\n",
    "model = svm.SVC(C= 0.1, gamma = 1, kernel='linear')\n",
    "model.fit(X_train, y_train)\n",
    "TestingD1_scaled = testscaler.fit_transform(TestingD1)\n",
    "\n",
    "y_pred_test = model.predict(TestingD1_scaled)\n",
    "\n",
    "with open(\"PetersonClassification1.txt\", \"w\") as f:\n",
    "    for pred in y_pred:\n",
    "        f.write(f\"{pred}\\n\")"
   ]
  }
 ],
 "metadata": {
  "kernelspec": {
   "display_name": "Python 3 (ipykernel)",
   "language": "python",
   "name": "python3"
  },
  "language_info": {
   "codemirror_mode": {
    "name": "ipython",
    "version": 3
   },
   "file_extension": ".py",
   "mimetype": "text/x-python",
   "name": "python",
   "nbconvert_exporter": "python",
   "pygments_lexer": "ipython3",
   "version": "3.11.5"
  }
 },
 "nbformat": 4,
 "nbformat_minor": 5
}
